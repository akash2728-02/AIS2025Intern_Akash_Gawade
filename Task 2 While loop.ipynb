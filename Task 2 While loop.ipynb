{
 "cells": [
  {
   "cell_type": "markdown",
   "id": "cadc6283-e908-45ec-8f9b-0cc1157c3273",
   "metadata": {},
   "source": [
    "# While Loop\n",
    "     In While loop, iteration done upto unknown limitaion with condition for stoping the itearation. We dont perfectly where the iteration can be done.\n",
    "    \n",
    "    #1)odd-even using while loop \n",
    "    #2) using while\n",
    "    * \n",
    "    * *\n",
    "    * * *\n",
    "    * * * *\n",
    "    * * * * *\n",
    "    #3) creat list 1-20 numbers list using while loop=> [1,2,3... 20]\n",
    "    #4)  creat list 20-1 (revers order) using while loop=> [20,19...1]\n",
    "    #5) try with one any eg. break, contnue , pass control statement"
   ]
  },
  {
   "cell_type": "code",
   "execution_count": 1,
   "id": "e0f98362-07e8-4071-a020-18d585108378",
   "metadata": {},
   "outputs": [
    {
     "name": "stdout",
     "output_type": "stream",
     "text": [
      "1 is odd\n",
      "2 is even\n",
      "3 is odd\n",
      "4 is even\n",
      "5 is odd\n",
      "6 is even\n",
      "7 is odd\n",
      "8 is even\n",
      "9 is odd\n",
      "10 is even\n"
     ]
    }
   ],
   "source": [
    "# we will find here odd-even using while loop \n",
    "number = 1   # variable can't be empty\n",
    "\n",
    "while number <= 10 :  # upto 10\n",
    "    if number % 2 == 0:  # even\n",
    "        print( number , 'is even')\n",
    "    else:\n",
    "        print(number , 'is odd')\n",
    "    number += 1"
   ]
  },
  {
   "cell_type": "code",
   "execution_count": 2,
   "id": "550b9666-27a0-4343-bfbf-e7e3012e2fdf",
   "metadata": {},
   "outputs": [
    {
     "name": "stdout",
     "output_type": "stream",
     "text": [
      "*\n",
      "**\n",
      "***\n",
      "****\n",
      "*****\n"
     ]
    }
   ],
   "source": [
    "# Printing the pattern using while loop\n",
    "i= 1 # intial state \n",
    "while i <= 5:\n",
    "    print('*'* i)\n",
    "    i +=1"
   ]
  },
  {
   "cell_type": "code",
   "execution_count": 3,
   "id": "c84506fc-c91f-4ff2-aaee-be9aa38062c6",
   "metadata": {},
   "outputs": [],
   "source": [
    "# Creating a List Contain 1 to 20 numbers\n",
    "\n",
    "num = [ ] # Initialize the list\n",
    "i = 1\n",
    "while i <= 20:\n",
    "    num.append(i)\n",
    "    i +=1\n"
   ]
  },
  {
   "cell_type": "code",
   "execution_count": 4,
   "id": "f84492e2-9e3a-471b-8490-862ec773f8e0",
   "metadata": {},
   "outputs": [
    {
     "name": "stdout",
     "output_type": "stream",
     "text": [
      "[1, 2, 3, 4, 5, 6, 7, 8, 9, 10, 11, 12, 13, 14, 15, 16, 17, 18, 19, 20]\n"
     ]
    }
   ],
   "source": [
    "print(num)"
   ]
  },
  {
   "cell_type": "code",
   "execution_count": 5,
   "id": "6b4fadcd-82b7-43f2-81b0-cbe619bd9efa",
   "metadata": {},
   "outputs": [],
   "source": [
    "# Reverse the list using thr while loop\n",
    "num = []\n",
    "i = 20\n",
    "while i >= 1:\n",
    "    num.append(i)\n",
    "    i -= 1"
   ]
  },
  {
   "cell_type": "code",
   "execution_count": 6,
   "id": "ba606326-8905-4388-9a39-26cb00e3e36f",
   "metadata": {},
   "outputs": [
    {
     "name": "stdout",
     "output_type": "stream",
     "text": [
      "[20, 19, 18, 17, 16, 15, 14, 13, 12, 11, 10, 9, 8, 7, 6, 5, 4, 3, 2, 1]\n"
     ]
    }
   ],
   "source": [
    "print(num)"
   ]
  },
  {
   "cell_type": "markdown",
   "id": "6e705c5e-4e90-48c6-ac43-72e567a16448",
   "metadata": {},
   "source": [
    "# Break \n",
    "    break is the part of while loop to stop the condition at specific criterion meets\n",
    "    "
   ]
  },
  {
   "cell_type": "code",
   "execution_count": 7,
   "id": "8ba3a51f-db87-4867-aa90-38dbc7162639",
   "metadata": {},
   "outputs": [
    {
     "name": "stdout",
     "output_type": "stream",
     "text": [
      "1\n",
      "2\n",
      "3\n",
      "4\n"
     ]
    }
   ],
   "source": [
    "\n",
    "i = 1\n",
    "while 1 <= 10:\n",
    "    if i ==5:  # condition for stop the loop\n",
    "        break\n",
    "    print(i)\n",
    "    i += 1"
   ]
  },
  {
   "cell_type": "markdown",
   "id": "f0c2fa70-29f1-45bc-98fe-56760612b961",
   "metadata": {},
   "source": [
    "# Continue\n",
    "    \n"
   ]
  },
  {
   "cell_type": "code",
   "execution_count": 18,
   "id": "d03b454e-2ee2-4a0a-b35c-bc28da1a471e",
   "metadata": {},
   "outputs": [
    {
     "name": "stdout",
     "output_type": "stream",
     "text": [
      "1\n",
      "2\n",
      "4\n",
      "5\n"
     ]
    }
   ],
   "source": [
    "\n",
    "i = 1\n",
    "while i <=5 :\n",
    "    if i == 3: # this check the value equal to 3\n",
    "        i +=1 # iterate to next numb\n",
    "    # here we loss the number 3\n",
    "        continue # skipping the remined body of code\n",
    "    print(i)\n",
    "    i += 1"
   ]
  },
  {
   "cell_type": "markdown",
   "id": "3d5d41ae-e1e1-4244-8d35-74f1b6984ff9",
   "metadata": {},
   "source": [
    "# Pass Statement \n",
    " The pass dose nothing in ther code\n",
    " Just simply work as placeholder"
   ]
  },
  {
   "cell_type": "code",
   "execution_count": 19,
   "id": "535bfc26-accc-4ef0-aeba-c8740803bdf8",
   "metadata": {},
   "outputs": [
    {
     "name": "stdout",
     "output_type": "stream",
     "text": [
      "1\n",
      "2\n",
      "3\n",
      "4\n",
      "5\n"
     ]
    }
   ],
   "source": [
    "i = 1\n",
    "while i <= 5:\n",
    "    if i ==3:\n",
    "        pass\n",
    "    print(i)\n",
    "    i+=1"
   ]
  },
  {
   "cell_type": "code",
   "execution_count": null,
   "id": "32d4027a-cc7f-47c8-8247-97d8b3527837",
   "metadata": {},
   "outputs": [],
   "source": []
  }
 ],
 "metadata": {
  "kernelspec": {
   "display_name": "Python 3 (ipykernel)",
   "language": "python",
   "name": "python3"
  },
  "language_info": {
   "codemirror_mode": {
    "name": "ipython",
    "version": 3
   },
   "file_extension": ".py",
   "mimetype": "text/x-python",
   "name": "python",
   "nbconvert_exporter": "python",
   "pygments_lexer": "ipython3",
   "version": "3.11.5"
  }
 },
 "nbformat": 4,
 "nbformat_minor": 5
}
