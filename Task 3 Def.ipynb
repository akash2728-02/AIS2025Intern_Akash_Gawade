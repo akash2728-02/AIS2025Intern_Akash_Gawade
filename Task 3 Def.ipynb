{
 "cells": [
  {
   "cell_type": "raw",
   "id": "99eeea04-8b6e-4608-a227-c7a5ac463793",
   "metadata": {},
   "source": [
    "# Def \n",
    "    def is helps to make user defined function . Containning the code of block with name of function"
   ]
  },
  {
   "cell_type": "code",
   "execution_count": 1,
   "id": "61b9f7e3-8f87-466d-898b-cceaf9fd34e8",
   "metadata": {},
   "outputs": [],
   "source": [
    "# We can find the maximum value by def\n",
    "\n",
    "def m_found(a,b,c):\n",
    "    return max ( a,b,c)"
   ]
  },
  {
   "cell_type": "code",
   "execution_count": 2,
   "id": "87e08781-e7a8-4616-8362-c9f888c126ef",
   "metadata": {},
   "outputs": [],
   "source": [
    "z =m_found(15452,3496,52487)\n"
   ]
  },
  {
   "cell_type": "code",
   "execution_count": 3,
   "id": "8eed148f-c003-474a-8d07-1980456535a6",
   "metadata": {},
   "outputs": [
    {
     "name": "stdout",
     "output_type": "stream",
     "text": [
      "52487\n"
     ]
    }
   ],
   "source": [
    "print(z)"
   ]
  },
  {
   "cell_type": "markdown",
   "id": "fee20a8e-0712-455a-84ed-0f64f35c97d4",
   "metadata": {},
   "source": [
    "# Sum of Numbers in a List\n"
   ]
  },
  {
   "cell_type": "code",
   "execution_count": 4,
   "id": "060a22df-1203-4c1f-8df7-e1abfe904af9",
   "metadata": {},
   "outputs": [],
   "source": [
    "def s_num (lst):\n",
    "    return sum(lst)"
   ]
  },
  {
   "cell_type": "code",
   "execution_count": 5,
   "id": "7a2676ac-d746-4958-b0f7-b6e1a99f99eb",
   "metadata": {},
   "outputs": [],
   "source": [
    "values=[14,8,5,78,15,100,25,4]"
   ]
  },
  {
   "cell_type": "code",
   "execution_count": 6,
   "id": "99ece7e0-58ad-490c-a1d0-59350941b637",
   "metadata": {},
   "outputs": [
    {
     "data": {
      "text/plain": [
       "249"
      ]
     },
     "execution_count": 6,
     "metadata": {},
     "output_type": "execute_result"
    }
   ],
   "source": [
    "s_num(values)"
   ]
  },
  {
   "cell_type": "markdown",
   "id": "e746d3cb-04be-4002-987c-ed3c7e1fe646",
   "metadata": {},
   "source": [
    "# Distinct Elements in a List\n",
    "\n"
   ]
  },
  {
   "cell_type": "code",
   "execution_count": 7,
   "id": "91f2ba90-dc3e-4c53-b846-982194bc91df",
   "metadata": {},
   "outputs": [],
   "source": [
    "def dist_value(lst):\n",
    "    return list(set(lst)) #finding the distinct values from the list  "
   ]
  },
  {
   "cell_type": "code",
   "execution_count": 8,
   "id": "b31958ef-6ff5-4d34-9471-a8e226095a97",
   "metadata": {},
   "outputs": [],
   "source": [
    "list1= [4,4,5,6,5,7,5,8,9,8,7,5,6,2,4,1,2,1,5,1,4,5,6,4,7]"
   ]
  },
  {
   "cell_type": "code",
   "execution_count": 9,
   "id": "f98b3484-2999-409c-bb7f-ea015646bc05",
   "metadata": {},
   "outputs": [
    {
     "name": "stdout",
     "output_type": "stream",
     "text": [
      "[4, 4, 5, 6, 5, 7, 5, 8, 9, 8, 7, 5, 6, 2, 4, 1, 2, 1, 5, 1, 4, 5, 6, 4, 7]\n"
     ]
    }
   ],
   "source": [
    "print(list1)# we can see allt= the elements of the list as it is in orginal form"
   ]
  },
  {
   "cell_type": "code",
   "execution_count": 10,
   "id": "9f3cea82-8fc5-40a9-8f53-6f760fc9fa68",
   "metadata": {},
   "outputs": [
    {
     "data": {
      "text/plain": [
       "[1, 2, 4, 5, 6, 7, 8, 9]"
      ]
     },
     "execution_count": 10,
     "metadata": {},
     "output_type": "execute_result"
    }
   ],
   "source": [
    "dist_value(list1) #we can say find the unique values"
   ]
  },
  {
   "cell_type": "markdown",
   "id": "30c85577-91f3-4120-89ec-684fd2e86b10",
   "metadata": {},
   "source": [
    "# Total Number of Combinations\n",
    "    we can use for count possible treatment combination"
   ]
  },
  {
   "cell_type": "code",
   "execution_count": 11,
   "id": "a6e37616-34cf-4de7-908c-182d976c2a7b",
   "metadata": {},
   "outputs": [],
   "source": [
    "import itertools"
   ]
  },
  {
   "cell_type": "code",
   "execution_count": 12,
   "id": "390f0556-f960-47b7-8da4-9f11c857d656",
   "metadata": {},
   "outputs": [],
   "source": [
    "\n",
    "def combi_count(lst):\n",
    "    return len(list(itertools.combinations(lst,2)))\n",
    "    "
   ]
  },
  {
   "cell_type": "code",
   "execution_count": 13,
   "id": "376ca152-3397-4082-acca-df6a5d4890b8",
   "metadata": {},
   "outputs": [],
   "source": [
    "\n",
    "letters= ['a','b','c']"
   ]
  },
  {
   "cell_type": "code",
   "execution_count": 14,
   "id": "f336e478-f6e3-4345-be02-0eedaa1f3dd9",
   "metadata": {},
   "outputs": [],
   "source": [
    "combi = combi_count(letters)"
   ]
  },
  {
   "cell_type": "code",
   "execution_count": 15,
   "id": "189c233f-0f6d-4323-ad34-33428a344140",
   "metadata": {},
   "outputs": [
    {
     "name": "stdout",
     "output_type": "stream",
     "text": [
      "possible combiations is = 3\n"
     ]
    }
   ],
   "source": [
    "print('possible combiations is =',combi_count(letters))"
   ]
  },
  {
   "cell_type": "markdown",
   "id": "658397aa-f726-467f-864d-27950a8cb5a8",
   "metadata": {},
   "source": [
    "# Total Number of Permutations\n",
    "    it will find  the total number of possible unique arrangements you can create with a given set of elements when sequence is important. \n"
   ]
  },
  {
   "cell_type": "code",
   "execution_count": 16,
   "id": "10c79480-dd1e-41a4-83bd-4700463300f5",
   "metadata": {},
   "outputs": [],
   "source": [
    "def t_permu(lst):\n",
    "    return len(list(itertools.permutations(lst)))"
   ]
  },
  {
   "cell_type": "code",
   "execution_count": 17,
   "id": "06704d81-c9e9-4f9c-85f6-74de210cc24a",
   "metadata": {},
   "outputs": [],
   "source": [
    "list2=['A','B','C','D']"
   ]
  },
  {
   "cell_type": "code",
   "execution_count": 18,
   "id": "44532a09-85f9-4cfe-bffd-edc1b9b45fd0",
   "metadata": {},
   "outputs": [],
   "source": [
    "p = t_permu(list2)"
   ]
  },
  {
   "cell_type": "code",
   "execution_count": 19,
   "id": "a0425e6c-3fca-4126-9a43-ef012d579776",
   "metadata": {},
   "outputs": [
    {
     "name": "stdout",
     "output_type": "stream",
     "text": [
      "24\n"
     ]
    }
   ],
   "source": [
    "print(p)"
   ]
  },
  {
   "cell_type": "code",
   "execution_count": 20,
   "id": "20d34812-831f-40b0-abb4-14520e14d342",
   "metadata": {},
   "outputs": [],
   "source": [
    "list3=['X','Y','Z']"
   ]
  },
  {
   "cell_type": "code",
   "execution_count": 21,
   "id": "fcaec42c-b90e-4a0a-8f1d-fb8929d5de35",
   "metadata": {},
   "outputs": [
    {
     "name": "stdout",
     "output_type": "stream",
     "text": [
      "6\n"
     ]
    }
   ],
   "source": [
    "print(t_permu(list3))"
   ]
  },
  {
   "cell_type": "markdown",
   "id": "c22748da-9d31-40e3-9a74-7f0b02cf43ab",
   "metadata": {},
   "source": [
    "# Count Vowels and Consonants\n"
   ]
  },
  {
   "cell_type": "code",
   "execution_count": 22,
   "id": "bd819b1b-8ae7-47d4-8981-4060f86d20ac",
   "metadata": {},
   "outputs": [],
   "source": [
    "\n",
    "def count_vowels_consonants(word):\n",
    "    vowels ='aeiou'\n",
    "    vowel_count = 0  # initailizing the varisbles\n",
    "    consonants_count = 0\n",
    "    for char in word:\n",
    "        if char.lower() in vowels:\n",
    "            vowel_count+=1\n",
    "        elif char.isalpha():\n",
    "            consonants_count  +=1\n",
    "    return vowel_count , consonants_count"
   ]
  },
  {
   "cell_type": "code",
   "execution_count": 23,
   "id": "184e01d0-2054-422a-a7a4-4dbc83c49fdb",
   "metadata": {},
   "outputs": [],
   "source": [
    "word ='statistics'"
   ]
  },
  {
   "cell_type": "code",
   "execution_count": 24,
   "id": "7d0534ad-5285-4514-a491-305cb9c84e29",
   "metadata": {},
   "outputs": [],
   "source": [
    "vowels , consonants = count_vowels_consonants(word)"
   ]
  },
  {
   "cell_type": "code",
   "execution_count": 25,
   "id": "87916e99-1389-463b-8f66-e1ed5cc4c745",
   "metadata": {},
   "outputs": [
    {
     "name": "stdout",
     "output_type": "stream",
     "text": [
      "7\n"
     ]
    }
   ],
   "source": [
    "print(consonants)"
   ]
  },
  {
   "cell_type": "code",
   "execution_count": 26,
   "id": "4c2e9c1a-4209-4b71-a9ea-7ea45fa3a4b6",
   "metadata": {},
   "outputs": [
    {
     "data": {
      "text/plain": [
       "3"
      ]
     },
     "execution_count": 26,
     "metadata": {},
     "output_type": "execute_result"
    }
   ],
   "source": [
    "vowels"
   ]
  },
  {
   "cell_type": "code",
   "execution_count": 27,
   "id": "d9d8afcb-9482-4448-a49b-e42d796527a0",
   "metadata": {},
   "outputs": [
    {
     "name": "stdout",
     "output_type": "stream",
     "text": [
      "The total vowels in statistics is 3 and Total consonant in statistics is 7\n"
     ]
    }
   ],
   "source": [
    "print(f'The total vowels in {word} is {vowels} and Total consonant in {word} is {consonants}')"
   ]
  },
  {
   "cell_type": "markdown",
   "id": "73a2deb3-572c-4290-9101-045c4c7ed722",
   "metadata": {},
   "source": [
    "# Convert to Uppercase\n"
   ]
  },
  {
   "cell_type": "code",
   "execution_count": 28,
   "id": "1dcd165b-7f4c-4c2e-a110-593715788d8f",
   "metadata": {},
   "outputs": [],
   "source": [
    "def convert_upper(w):\n",
    "    return w.upper()"
   ]
  },
  {
   "cell_type": "code",
   "execution_count": 29,
   "id": "2e67c3aa-a350-431c-94fd-06d8bc37de4e",
   "metadata": {},
   "outputs": [],
   "source": [
    "sent  = 'i am from kolhapur'\n",
    "sent2 = 'statistics'"
   ]
  },
  {
   "cell_type": "code",
   "execution_count": 30,
   "id": "b4c172fa-582b-4088-8df1-4924824a56f3",
   "metadata": {},
   "outputs": [
    {
     "name": "stdout",
     "output_type": "stream",
     "text": [
      "I AM FROM KOLHAPUR\n"
     ]
    }
   ],
   "source": [
    "print(convert_upper(sent))"
   ]
  },
  {
   "cell_type": "code",
   "execution_count": 31,
   "id": "39610937-5718-4d2c-a53c-25411ec1974b",
   "metadata": {},
   "outputs": [
    {
     "data": {
      "text/plain": [
       "'STATISTICS'"
      ]
     },
     "execution_count": 31,
     "metadata": {},
     "output_type": "execute_result"
    }
   ],
   "source": [
    "convert_upper(sent2)"
   ]
  },
  {
   "cell_type": "markdown",
   "id": "20c60f9c-8ffb-451a-ab48-5160238362f9",
   "metadata": {},
   "source": [
    "# Count Lowercase and Uppercase Letters\n"
   ]
  },
  {
   "cell_type": "code",
   "execution_count": 32,
   "id": "ff832484-a4e5-4482-830d-b88b7a0fd11b",
   "metadata": {},
   "outputs": [],
   "source": [
    "\n",
    "def count_upper_lower(lst):\n",
    "    lower_c=0\n",
    "    upper_c=0\n",
    "    for x in lst:\n",
    "        if x.islower():\n",
    "            lower_c += 1\n",
    "        elif x.isupper():\n",
    "            upper_c += 1\n",
    "    return lower_c ,upper_c"
   ]
  },
  {
   "cell_type": "code",
   "execution_count": 33,
   "id": "2a6799ef-782b-454b-8a65-10f926d0e95c",
   "metadata": {},
   "outputs": [],
   "source": [
    "l1 = 'STatiStiCS'"
   ]
  },
  {
   "cell_type": "code",
   "execution_count": 34,
   "id": "d88f483b-164b-4104-a576-9d438dd8043e",
   "metadata": {},
   "outputs": [],
   "source": [
    "lower_case , upper_case = count_upper_lower(l1)"
   ]
  },
  {
   "cell_type": "code",
   "execution_count": 35,
   "id": "9b9efb94-dd0c-4f9f-9520-50896e13e507",
   "metadata": {},
   "outputs": [
    {
     "name": "stdout",
     "output_type": "stream",
     "text": [
      "total lower case is 5 and total upper case is 5\n"
     ]
    }
   ],
   "source": [
    "print(f'total lower case is {lower_case} and total upper case is {upper_case}' )"
   ]
  },
  {
   "cell_type": "code",
   "execution_count": null,
   "id": "d1410812-1ad0-4501-955e-95f769b6ebd7",
   "metadata": {},
   "outputs": [],
   "source": []
  }
 ],
 "metadata": {
  "kernelspec": {
   "display_name": "Python 3 (ipykernel)",
   "language": "python",
   "name": "python3"
  },
  "language_info": {
   "codemirror_mode": {
    "name": "ipython",
    "version": 3
   },
   "file_extension": ".py",
   "mimetype": "text/x-python",
   "name": "python",
   "nbconvert_exporter": "python",
   "pygments_lexer": "ipython3",
   "version": "3.11.5"
  }
 },
 "nbformat": 4,
 "nbformat_minor": 5
}
