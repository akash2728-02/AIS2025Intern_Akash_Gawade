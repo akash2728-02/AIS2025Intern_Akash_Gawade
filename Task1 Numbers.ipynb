{
 "cells": [
  {
   "cell_type": "markdown",
   "id": "93d61afd-4375-468e-8542-f526cd5892e9",
   "metadata": {},
   "source": [
    "# Number in Python\n",
    "    There mainly 3 types in Python\n",
    "    \n",
    "    1.Integers\n",
    "        Def: Whole Number without a fractional or decimal point. They can be Positive or may be Negative or zero. Ex. 77, -58,0, etc\n",
    "        \n",
    "    2.Floats\n",
    "        Def: Numbers that contain a decimal point or are expressed in scintific notation \n",
    "        Ex. 2.3,00.15.-0.2545\n",
    "    3. Complex Number\n",
    "        Def : Number in the form of a+bj where a is real part and the b is imaginary part"
   ]
  },
  {
   "cell_type": "code",
   "execution_count": 11,
   "id": "4f245830-e267-4798-8539-71aff6a10999",
   "metadata": {},
   "outputs": [
    {
     "name": "stdout",
     "output_type": "stream",
     "text": [
      "<class 'int'> = 10\n"
     ]
    }
   ],
   "source": [
    "# Integers\n",
    "a=10\n",
    "b=-5\n",
    "\n",
    "\n",
    "print(type(a),'=',a)\n"
   ]
  },
  {
   "cell_type": "code",
   "execution_count": 45,
   "id": "d6c64637-4082-426e-b1c9-48d43e6b5f41",
   "metadata": {},
   "outputs": [
    {
     "name": "stdout",
     "output_type": "stream",
     "text": [
      "<class 'float'>\n",
      "<class 'float'>\n"
     ]
    }
   ],
   "source": [
    "#Float\n",
    "c=0.2\n",
    "d=-15.5\n",
    "g=2.2e25\n",
    "print(type(c))\n",
    "print(type(g))"
   ]
  },
  {
   "cell_type": "code",
   "execution_count": 22,
   "id": "21c549ea-2453-4e2a-b2ec-c09a27a9472b",
   "metadata": {},
   "outputs": [
    {
     "name": "stdout",
     "output_type": "stream",
     "text": [
      "<class 'complex'>\n"
     ]
    }
   ],
   "source": [
    "# complex\n",
    "e= 4+5j\n",
    "f= 36-10j\n",
    "\n",
    "print(type(e))"
   ]
  },
  {
   "cell_type": "markdown",
   "id": "25fdd1c1-8a93-4f0d-aafc-0f3345bf3623",
   "metadata": {},
   "source": [
    "# Lets Do some Arithmetic Operations"
   ]
  },
  {
   "cell_type": "code",
   "execution_count": 26,
   "id": "a389d4e4-50d5-4791-a7f5-34fa79e46745",
   "metadata": {},
   "outputs": [
    {
     "name": "stdout",
     "output_type": "stream",
     "text": [
      "5\n",
      "-15.3\n",
      "(40-5j)\n",
      "5\n"
     ]
    }
   ],
   "source": [
    "# Addition\n",
    "\n",
    "# integers\n",
    "\n",
    "print(a+b)  # 10+(-5) = 5 \n",
    "\n",
    "# Float\n",
    "print(c+d) # 0.2+(-15.5) = -15.3\n",
    "\n",
    "# Complex\n",
    "print(e+f)  # 4+5j + 36-10j = 40-5j\n",
    "\n",
    "# we can convert this operation into a Variable such as\n",
    "x= a+b\n",
    "print(x)"
   ]
  },
  {
   "cell_type": "code",
   "execution_count": 7,
   "id": "18c8277b-3493-4a63-acba-59d07a407fe5",
   "metadata": {},
   "outputs": [
    {
     "name": "stdout",
     "output_type": "stream",
     "text": [
      "15\n",
      "15.7\n",
      "(-32+15j)\n"
     ]
    }
   ],
   "source": [
    "# Subtraction\n",
    "#interger\n",
    "print(a-b)\n",
    "\n",
    "#Float\n",
    "print(c-d)\n",
    "\n",
    "#Complex\n",
    "print(e-f)"
   ]
  },
  {
   "cell_type": "code",
   "execution_count": 37,
   "id": "258ecb44-c9be-4c90-97ec-bf3c6009e1a8",
   "metadata": {},
   "outputs": [
    {
     "name": "stdout",
     "output_type": "stream",
     "text": [
      "-50\n",
      "2.0\n",
      "-3.1\n",
      "(-20-25j)\n",
      "(-558+155j)\n",
      "(194+140j)\n"
     ]
    }
   ],
   "source": [
    "# Multiplication\n",
    "print(a*b)  #integrs\n",
    "print(a*c) # int * float\n",
    "print(c*d) # float * float \n",
    "print(b*e) # int * complex\n",
    "print(f*d) # float * complex\n",
    "print(e*f) #Complex *Complex"
   ]
  },
  {
   "cell_type": "code",
   "execution_count": 40,
   "id": "7f5ec9bd-a33b-4aae-b9fa-f6c9ca34399e",
   "metadata": {},
   "outputs": [
    {
     "name": "stdout",
     "output_type": "stream",
     "text": [
      "-2.0\n",
      "-0.012903225806451613\n",
      "(0.0673352435530086+0.15759312320916904j)\n"
     ]
    }
   ],
   "source": [
    "# Division\n",
    "\n",
    "print(a/b)  #int\n",
    "print(c/d)  #float\n",
    "print(e/f)  # Complex"
   ]
  },
  {
   "cell_type": "markdown",
   "id": "771312a9-79a3-48d3-af1b-c33a9a43fc41",
   "metadata": {},
   "source": [
    "# Charecteristic\n",
    "    The all arithmetic operation can be done over any cross type of nuumber and also for same type of number. We can see in the Multipliation , we did the operation over cross type."
   ]
  },
  {
   "cell_type": "code",
   "execution_count": null,
   "id": "021de582-99f6-4d85-b9ad-e0192f183bfd",
   "metadata": {},
   "outputs": [],
   "source": []
  }
 ],
 "metadata": {
  "kernelspec": {
   "display_name": "Python 3 (ipykernel)",
   "language": "python",
   "name": "python3"
  },
  "language_info": {
   "codemirror_mode": {
    "name": "ipython",
    "version": 3
   },
   "file_extension": ".py",
   "mimetype": "text/x-python",
   "name": "python",
   "nbconvert_exporter": "python",
   "pygments_lexer": "ipython3",
   "version": "3.11.5"
  }
 },
 "nbformat": 4,
 "nbformat_minor": 5
}
