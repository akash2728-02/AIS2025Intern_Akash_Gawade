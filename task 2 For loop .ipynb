{
 "cells": [
  {
   "cell_type": "markdown",
   "id": "f253a375-5351-413f-810f-3f654380614d",
   "metadata": {},
   "source": [
    "# For loop\n",
    "    for loop is used for do iterstion overe a specific sequence\n",
    "    "
   ]
  },
  {
   "cell_type": "code",
   "execution_count": 1,
   "id": "9dfaf495-8f9b-4879-b750-e82af4d6fe44",
   "metadata": {},
   "outputs": [],
   "source": [
    "# print odd value between 20 and 80, without using if. Using for loop only.\n",
    "# we using here simple alogorithm than other softwares\n"
   ]
  },
  {
   "cell_type": "code",
   "execution_count": 8,
   "id": "1ef79469-29b3-4ef4-a2e9-dc1751f0d627",
   "metadata": {},
   "outputs": [
    {
     "name": "stdout",
     "output_type": "stream",
     "text": [
      "21\n",
      "23\n",
      "25\n",
      "27\n",
      "29\n",
      "31\n",
      "33\n",
      "35\n",
      "37\n",
      "39\n",
      "41\n",
      "43\n",
      "45\n",
      "47\n",
      "49\n",
      "51\n",
      "53\n",
      "55\n",
      "57\n",
      "59\n",
      "61\n",
      "63\n",
      "65\n",
      "67\n",
      "69\n",
      "71\n",
      "73\n",
      "75\n",
      "77\n",
      "79\n"
     ]
    }
   ],
   "source": [
    "for odd in range(21 , 80 , 2): # we take first odd value to get all other odd values\n",
    "    print(odd)"
   ]
  },
  {
   "cell_type": "code",
   "execution_count": 9,
   "id": "a7b825ad-f22e-4b7a-a46a-359ea6ec1846",
   "metadata": {},
   "outputs": [],
   "source": [
    "# this loop avoid  the if else statement"
   ]
  },
  {
   "cell_type": "code",
   "execution_count": null,
   "id": "4cd6732a-0c04-4c78-928f-08e8ab4594e6",
   "metadata": {},
   "outputs": [],
   "source": [
    "#) creat a list of 1 to 20 number using for loop [1,2,3..20]\n"
   ]
  },
  {
   "cell_type": "code",
   "execution_count": 16,
   "id": "74f82a4c-6a6b-4f66-bc69-1958b509cd20",
   "metadata": {},
   "outputs": [],
   "source": [
    "l = [ i for i in range(1,21)]   # index start  from 0 and except the last index"
   ]
  },
  {
   "cell_type": "code",
   "execution_count": 17,
   "id": "3109a601-66d6-4f71-a834-60979f46c36d",
   "metadata": {},
   "outputs": [
    {
     "name": "stdout",
     "output_type": "stream",
     "text": [
      "[1, 2, 3, 4, 5, 6, 7, 8, 9, 10, 11, 12, 13, 14, 15, 16, 17, 18, 19, 20]\n"
     ]
    }
   ],
   "source": [
    "print(l)"
   ]
  },
  {
   "cell_type": "code",
   "execution_count": 18,
   "id": "97457ea3-d6dc-454d-a82c-6d6cff02d2d6",
   "metadata": {},
   "outputs": [],
   "source": [
    " #create a  list of 20 to 1 value using  for loop (dont Use Reverse) [20,19,18,...3,2,1]"
   ]
  },
  {
   "cell_type": "code",
   "execution_count": 30,
   "id": "d869ab9f-6136-4102-bed0-f07cd7ef377d",
   "metadata": {},
   "outputs": [],
   "source": [
    "# we will use here decrement and .append()\n",
    "numr = [] # we created empty list that store alll the appended values from for loop\n",
    "for number in range(20,0,-1):\n",
    "    numr.append(number)"
   ]
  },
  {
   "cell_type": "code",
   "execution_count": 31,
   "id": "5c1d3373-ea75-4e3b-a6a8-72795cb254e6",
   "metadata": {},
   "outputs": [
    {
     "name": "stdout",
     "output_type": "stream",
     "text": [
      "[20, 19, 18, 17, 16, 15, 14, 13, 12, 11, 10, 9, 8, 7, 6, 5, 4, 3, 2, 1]\n"
     ]
    }
   ],
   "source": [
    "print(numr)"
   ]
  },
  {
   "cell_type": "code",
   "execution_count": 37,
   "id": "4cad16d9-a4d9-4cf3-8576-59df342e39c4",
   "metadata": {},
   "outputs": [
    {
     "name": "stdout",
     "output_type": "stream",
     "text": [
      "21 ^3 = 9261\n",
      "23 ^3 = 12167\n",
      "25 ^3 = 15625\n",
      "27 ^3 = 19683\n",
      "29 ^3 = 24389\n",
      "31 ^3 = 29791\n",
      "33 ^3 = 35937\n",
      "35 ^3 = 42875\n",
      "37 ^3 = 50653\n",
      "39 ^3 = 59319\n"
     ]
    }
   ],
   "source": [
    "# 4)take Cube of odd values between 20 to 40\n",
    "for no in range(21,40,2):\n",
    "    i = no**3\n",
    "    print(no ,'^3','=', i)"
   ]
  },
  {
   "cell_type": "markdown",
   "id": "dc9e5552-7a3d-4db8-825c-04d3d8c1cee6",
   "metadata": {},
   "source": [
    "#5) take 5 freinds name in list name=[a,b,c,d,e]\n",
    "take corresponding ages in second list age = [20,21,23,25,24]\n",
    "expected ans:"
   ]
  },
  {
   "cell_type": "code",
   "execution_count": 38,
   "id": "26dd9137-db7c-4159-8298-44c1b09c8bd4",
   "metadata": {},
   "outputs": [],
   "source": [
    "myfrd = ['akash','shubham','sujit','praveen','jaydip']"
   ]
  },
  {
   "cell_type": "code",
   "execution_count": 39,
   "id": "becb3ef3-6e69-42a2-98eb-34a7d1ff600d",
   "metadata": {},
   "outputs": [],
   "source": [
    "myfrdage = [ 20,21,23,25,24]"
   ]
  },
  {
   "cell_type": "code",
   "execution_count": 56,
   "id": "ff42da5a-675c-47d5-aedb-6371e61fc4c2",
   "metadata": {},
   "outputs": [
    {
     "name": "stdout",
     "output_type": "stream",
     "text": [
      "my name is akash,my age is 20\n",
      "my name is shubham,my age is 21\n",
      "my name is sujit,my age is 23\n",
      "my name is praveen,my age is 25\n",
      "my name is jaydip,my age is 24\n"
     ]
    }
   ],
   "source": [
    "for i in range(len(myfrd)):\n",
    "    print(f\"my name is {myfrd[i]},my age is {myfrdage[i]}\")"
   ]
  },
  {
   "cell_type": "code",
   "execution_count": 52,
   "id": "180d6ca0-0eff-439e-b2cc-1901d98c2cd8",
   "metadata": {},
   "outputs": [],
   "source": [
    "# another way\n",
    "frd = {} # empty set\n",
    "for i in range(len(myfrd)):\n",
    "    frd[myfrd[i]] = myfrdage[i]"
   ]
  },
  {
   "cell_type": "code",
   "execution_count": 53,
   "id": "0e422b6c-b79e-459e-9ea8-fb626dfdc6d4",
   "metadata": {},
   "outputs": [
    {
     "name": "stdout",
     "output_type": "stream",
     "text": [
      "{'akash': 20, 'shubham': 21, 'sujit': 23, 'praveen': 25, 'jaydip': 24}\n"
     ]
    }
   ],
   "source": [
    "print(frd)"
   ]
  },
  {
   "cell_type": "code",
   "execution_count": null,
   "id": "f4103d6f-c98e-4f9d-aa77-de6b2ffdd5c8",
   "metadata": {},
   "outputs": [],
   "source": []
  }
 ],
 "metadata": {
  "kernelspec": {
   "display_name": "Python 3 (ipykernel)",
   "language": "python",
   "name": "python3"
  },
  "language_info": {
   "codemirror_mode": {
    "name": "ipython",
    "version": 3
   },
   "file_extension": ".py",
   "mimetype": "text/x-python",
   "name": "python",
   "nbconvert_exporter": "python",
   "pygments_lexer": "ipython3",
   "version": "3.11.5"
  }
 },
 "nbformat": 4,
 "nbformat_minor": 5
}
