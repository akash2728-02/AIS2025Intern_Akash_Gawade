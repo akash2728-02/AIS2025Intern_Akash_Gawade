{
 "cells": [
  {
   "cell_type": "markdown",
   "id": "fcd4d19e-f370-487c-aec0-4f2193d4080f",
   "metadata": {},
   "source": [
    "# Python Error:"
   ]
  },
  {
   "cell_type": "markdown",
   "id": "6d7d083e-f3b9-470d-a997-89bbff49cfaa",
   "metadata": {},
   "source": [
    "# Exception Handling in Python\n",
    "- An exception is an event, which occurs during the execution of a program that disrupts the normal flow of\n",
    "the program's instructions.\n",
    "- In general, when a Python script encounters a situation that it cannot cope with, it raises an exception.\n",
    "- An exception is a Python object that represents an error.\n",
    "- When a Python script raises an exception, it must either handle the exception immediately otherwise it\n",
    "terminates and quits.\n",
    "- If you have some suspicious code that may raise an exception, you can defend your program by placing\n",
    "the suspicious code in a try: block.\n",
    "- After the try: block, include an except: statement, followed by a block of code which handles the problem\n",
    "as elegantly as possible.\n",
    "# Common exceptions\n",
    "- ZeroDivisionError\n",
    "- Name Error\n",
    "- Value Error\n",
    "- Index error\n",
    "- Type error\n",
    "- Identeation Error\n",
    "- Key error"
   ]
  },
  {
   "cell_type": "markdown",
   "id": "ff46c1b1-caa3-410d-9689-cd3f7b1ed4f9",
   "metadata": {},
   "source": [
    "# ZeroDivisionError"
   ]
  },
  {
   "cell_type": "code",
   "execution_count": 3,
   "id": "9a756e2a-75fa-4bd5-95e7-c7b1ffe2a34c",
   "metadata": {},
   "outputs": [
    {
     "name": "stdout",
     "output_type": "stream",
     "text": [
      "This code gives a ZeroDivisionError.\n"
     ]
    },
    {
     "ename": "ZeroDivisionError",
     "evalue": "division by zero",
     "output_type": "error",
     "traceback": [
      "\u001b[1;31m---------------------------------------------------------------------------\u001b[0m",
      "\u001b[1;31mZeroDivisionError\u001b[0m                         Traceback (most recent call last)",
      "Cell \u001b[1;32mIn[3], line 6\u001b[0m\n\u001b[0;32m      4\u001b[0m \u001b[38;5;28;01mexcept\u001b[39;00m \u001b[38;5;167;01mZeroDivisionError\u001b[39;00m:\n\u001b[0;32m      5\u001b[0m     \u001b[38;5;28mprint\u001b[39m(\u001b[38;5;124m'\u001b[39m\u001b[38;5;124mThis code gives a ZeroDivisionError.\u001b[39m\u001b[38;5;124m'\u001b[39m)\n\u001b[1;32m----> 6\u001b[0m \u001b[38;5;28mprint\u001b[39m(\u001b[38;5;241m1\u001b[39m\u001b[38;5;241m/\u001b[39m\u001b[38;5;241m0\u001b[39m)\n",
      "\u001b[1;31mZeroDivisionError\u001b[0m: division by zero"
     ]
    }
   ],
   "source": [
    "# If a number is divided by 0, it gives a ZeroDivisionError.\n",
    "try:\n",
    " 1/0\n",
    "except ZeroDivisionError:\n",
    "    print('This code gives a ZeroDivisionError.')\n",
    "print(1/0)"
   ]
  },
  {
   "cell_type": "markdown",
   "id": "d5aed291-cd84-479a-a42f-7d871b93962a",
   "metadata": {},
   "source": [
    "# NameError:\n",
    "   name 'mean' is not defined"
   ]
  },
  {
   "cell_type": "code",
   "execution_count": 6,
   "id": "d9ffca9a-f1e9-4d27-8b00-6b444f7e5807",
   "metadata": {},
   "outputs": [
    {
     "name": "stdout",
     "output_type": "stream",
     "text": [
      "This code gives a NameError.\n"
     ]
    },
    {
     "ename": "NameError",
     "evalue": "name 'y' is not defined",
     "output_type": "error",
     "traceback": [
      "\u001b[1;31m---------------------------------------------------------------------------\u001b[0m",
      "\u001b[1;31mNameError\u001b[0m                                 Traceback (most recent call last)",
      "Cell \u001b[1;32mIn[6], line 5\u001b[0m\n\u001b[0;32m      3\u001b[0m \u001b[38;5;28;01mexcept\u001b[39;00m \u001b[38;5;167;01mNameError\u001b[39;00m:\n\u001b[0;32m      4\u001b[0m   \u001b[38;5;28mprint\u001b[39m(\u001b[38;5;124m'\u001b[39m\u001b[38;5;124mThis code gives a NameError.\u001b[39m\u001b[38;5;124m'\u001b[39m)\n\u001b[1;32m----> 5\u001b[0m \u001b[38;5;28mprint\u001b[39m(y)\n",
      "\u001b[1;31mNameError\u001b[0m: name 'y' is not defined"
     ]
    }
   ],
   "source": [
    "try:\n",
    " y = x+5\n",
    "except NameError:\n",
    "  print('This code gives a NameError.')\n",
    "print(y)"
   ]
  },
  {
   "cell_type": "markdown",
   "id": "74408798-c4ff-4e9c-9a48-7b3d0d49951c",
   "metadata": {},
   "source": [
    "# Value Error:\n",
    " "
   ]
  },
  {
   "cell_type": "code",
   "execution_count": 14,
   "id": "3e904473-f982-4b5c-9c6b-3f1aee238708",
   "metadata": {},
   "outputs": [
    {
     "ename": "ValueError",
     "evalue": "invalid literal for int() with base 10: 'abc'",
     "output_type": "error",
     "traceback": [
      "\u001b[1;31m---------------------------------------------------------------------------\u001b[0m",
      "\u001b[1;31mValueError\u001b[0m                                Traceback (most recent call last)",
      "Cell \u001b[1;32mIn[14], line 1\u001b[0m\n\u001b[1;32m----> 1\u001b[0m \u001b[38;5;28mint\u001b[39m(\u001b[38;5;124m'\u001b[39m\u001b[38;5;124mabc\u001b[39m\u001b[38;5;124m'\u001b[39m)\n",
      "\u001b[1;31mValueError\u001b[0m: invalid literal for int() with base 10: 'abc'"
     ]
    }
   ],
   "source": [
    "int('abc')  # This raises ValueError because 'abc' cannot be converted to an integer.\n"
   ]
  },
  {
   "cell_type": "markdown",
   "id": "71da4eca-3863-4973-a187-39bb00b279af",
   "metadata": {},
   "source": [
    "# Index error:"
   ]
  },
  {
   "cell_type": "code",
   "execution_count": 12,
   "id": "64a00c4f-fbf9-4fcc-a7be-0fabbb668f65",
   "metadata": {},
   "outputs": [
    {
     "name": "stdout",
     "output_type": "stream",
     "text": [
      "This code gives us a IndexError.\n"
     ]
    },
    {
     "ename": "IndexError",
     "evalue": "list index out of range",
     "output_type": "error",
     "traceback": [
      "\u001b[1;31m---------------------------------------------------------------------------\u001b[0m",
      "\u001b[1;31mIndexError\u001b[0m                                Traceback (most recent call last)",
      "Cell \u001b[1;32mIn[12], line 6\u001b[0m\n\u001b[0;32m      4\u001b[0m \u001b[38;5;28;01mexcept\u001b[39;00m \u001b[38;5;167;01mIndexError\u001b[39;00m:\n\u001b[0;32m      5\u001b[0m   \u001b[38;5;28mprint\u001b[39m(\u001b[38;5;124m'\u001b[39m\u001b[38;5;124mThis code gives us a IndexError.\u001b[39m\u001b[38;5;124m'\u001b[39m)\n\u001b[1;32m----> 6\u001b[0m \u001b[38;5;28mprint\u001b[39m(nlis[\u001b[38;5;241m10\u001b[39m])\n",
      "\u001b[1;31mIndexError\u001b[0m: list index out of range"
     ]
    }
   ],
   "source": [
    "nlis = [0.577, 1.618, 2.718, 3.14, 6, 28, 37, 1729]\n",
    "try:\n",
    "  nlis[10]\n",
    "except IndexError:\n",
    "  print('This code gives us a IndexError.')\n",
    "print(nlis[10])"
   ]
  },
  {
   "cell_type": "markdown",
   "id": "8b74e61a-4f83-4b60-9895-b39844e569ed",
   "metadata": {},
   "source": [
    "# Type error"
   ]
  },
  {
   "cell_type": "code",
   "execution_count": 1,
   "id": "ba196a8f-2474-41d9-b824-f5a3e79d8e57",
   "metadata": {},
   "outputs": [
    {
     "ename": "TypeError",
     "evalue": "unsupported operand type(s) for +: 'int' and 'str'",
     "output_type": "error",
     "traceback": [
      "\u001b[1;31m---------------------------------------------------------------------------\u001b[0m",
      "\u001b[1;31mTypeError\u001b[0m                                 Traceback (most recent call last)",
      "Cell \u001b[1;32mIn[1], line 4\u001b[0m\n\u001b[0;32m      2\u001b[0m number \u001b[38;5;241m=\u001b[39m \u001b[38;5;241m5\u001b[39m\n\u001b[0;32m      3\u001b[0m text \u001b[38;5;241m=\u001b[39m \u001b[38;5;124m\"\u001b[39m\u001b[38;5;124mhello\u001b[39m\u001b[38;5;124m\"\u001b[39m\n\u001b[1;32m----> 4\u001b[0m result \u001b[38;5;241m=\u001b[39m number \u001b[38;5;241m+\u001b[39m text\n",
      "\u001b[1;31mTypeError\u001b[0m: unsupported operand type(s) for +: 'int' and 'str'"
     ]
    }
   ],
   "source": [
    "# Trying to add an integer to a string\n",
    "number = 5\n",
    "text = \"hello\"\n",
    "result = number + text  # This will raise a TypeError\n"
   ]
  },
  {
   "cell_type": "markdown",
   "id": "1a251d21-d78e-4304-a6b8-e1480cddce0d",
   "metadata": {},
   "source": [
    "# Identeation Error"
   ]
  },
  {
   "cell_type": "code",
   "execution_count": null,
   "id": "b86bfe25-3e9e-4268-b166-78f87b6ba6ef",
   "metadata": {},
   "outputs": [],
   "source": []
  },
  {
   "cell_type": "markdown",
   "id": "4d2b62dc-2498-4d6a-8c86-c7f724aae4f9",
   "metadata": {},
   "source": [
    "# Key error"
   ]
  },
  {
   "cell_type": "code",
   "execution_count": 13,
   "id": "8e2ed388-9fdb-41b1-87f2-b0184d0d24af",
   "metadata": {},
   "outputs": [
    {
     "name": "stdout",
     "output_type": "stream",
     "text": [
      "This code gives us a KeyError.\n"
     ]
    },
    {
     "ename": "KeyError",
     "evalue": "'euler_number'",
     "output_type": "error",
     "traceback": [
      "\u001b[1;31m---------------------------------------------------------------------------\u001b[0m",
      "\u001b[1;31mKeyError\u001b[0m                                  Traceback (most recent call last)",
      "Cell \u001b[1;32mIn[13], line 6\u001b[0m\n\u001b[0;32m      4\u001b[0m \u001b[38;5;28;01mexcept\u001b[39;00m \u001b[38;5;167;01mKeyError\u001b[39;00m:\n\u001b[0;32m      5\u001b[0m    \u001b[38;5;28mprint\u001b[39m(\u001b[38;5;124m'\u001b[39m\u001b[38;5;124mThis code gives us a KeyError.\u001b[39m\u001b[38;5;124m'\u001b[39m)\n\u001b[1;32m----> 6\u001b[0m dictonary \u001b[38;5;241m=\u001b[39m dictionary[\u001b[38;5;124m'\u001b[39m\u001b[38;5;124meuler_number\u001b[39m\u001b[38;5;124m'\u001b[39m]\n\u001b[0;32m      7\u001b[0m \u001b[38;5;28mprint\u001b[39m(dictonary)\n",
      "\u001b[1;31mKeyError\u001b[0m: 'euler_number'"
     ]
    }
   ],
   "source": [
    "dictionary = {'euler_constant': 0.577, 'golden_ratio': 1.618}\n",
    "try:\n",
    "   dictonary = dictionary['euler_number']\n",
    "except KeyError:\n",
    "   print('This code gives us a KeyError.')\n",
    "dictonary = dictionary['euler_number']\n",
    "print(dictonary)"
   ]
  }
 ],
 "metadata": {
  "kernelspec": {
   "display_name": "Python 3 (ipykernel)",
   "language": "python",
   "name": "python3"
  },
  "language_info": {
   "codemirror_mode": {
    "name": "ipython",
    "version": 3
   },
   "file_extension": ".py",
   "mimetype": "text/x-python",
   "name": "python",
   "nbconvert_exporter": "python",
   "pygments_lexer": "ipython3",
   "version": "3.12.7"
  }
 },
 "nbformat": 4,
 "nbformat_minor": 5
}
