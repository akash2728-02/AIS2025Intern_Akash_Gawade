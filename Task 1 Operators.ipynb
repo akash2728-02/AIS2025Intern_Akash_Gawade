{
 "cells": [
  {
   "cell_type": "markdown",
   "id": "094ccd9a-1f13-4909-b811-df011f223431",
   "metadata": {},
   "source": [
    "# Operators\n",
    "     In the python there are mainly 3 types \n",
    "         1. Arithmetic ( + , - , / , *, ** )\n",
    "         2. Comparative ( == , != , < , > ,<= ,>=)\n",
    "         3. Logical ( and , or )\n",
    "         4.Assignment ( -=, += , *=)\n",
    "         5. Identy ( is , is not)\n",
    "         6. Membership ( in , not in)"
   ]
  },
  {
   "cell_type": "markdown",
   "id": "5909b272-1ade-4e3d-86af-8148e1ceb26c",
   "metadata": {},
   "source": [
    "# Arithmetic"
   ]
  },
  {
   "cell_type": "code",
   "execution_count": 1,
   "id": "beefd6e1-563b-4c23-8c4c-340ac76e36f3",
   "metadata": {},
   "outputs": [
    {
     "name": "stdout",
     "output_type": "stream",
     "text": [
      "55\n",
      "13\n",
      "5.0\n",
      "50\n",
      "100\n"
     ]
    }
   ],
   "source": [
    "\n",
    "print(10+45)\n",
    "print(15-2)\n",
    "print(10/2)\n",
    "print(25*2)\n",
    "print(10**2) # to the power , given is squre we can obtain by taking power 3 eg.10**3"
   ]
  },
  {
   "cell_type": "markdown",
   "id": "efe12ed5-f589-45a3-8a42-093c162aac3c",
   "metadata": {},
   "source": [
    "# 2. Comparative ( == , != , < , > ,<= ,>=)"
   ]
  },
  {
   "cell_type": "code",
   "execution_count": 2,
   "id": "f294410d-9788-4198-ba51-0a72320004dd",
   "metadata": {},
   "outputs": [
    {
     "data": {
      "text/plain": [
       "False"
      ]
     },
     "execution_count": 2,
     "metadata": {},
     "output_type": "execute_result"
    }
   ],
   "source": [
    "5==6"
   ]
  },
  {
   "cell_type": "code",
   "execution_count": 3,
   "id": "1e4487aa-9829-41fc-985a-fd57f8bbda43",
   "metadata": {},
   "outputs": [
    {
     "data": {
      "text/plain": [
       "True"
      ]
     },
     "execution_count": 3,
     "metadata": {},
     "output_type": "execute_result"
    }
   ],
   "source": [
    "10 != 12  # is not equal to "
   ]
  },
  {
   "cell_type": "code",
   "execution_count": 4,
   "id": "d95a7c05-3d9a-4224-ba02-1d495c2a4b96",
   "metadata": {},
   "outputs": [
    {
     "data": {
      "text/plain": [
       "False"
      ]
     },
     "execution_count": 4,
     "metadata": {},
     "output_type": "execute_result"
    }
   ],
   "source": [
    "5 < 4 # less than"
   ]
  },
  {
   "cell_type": "code",
   "execution_count": 5,
   "id": "33fee144-4e8d-4929-97ac-52ae51eecb72",
   "metadata": {},
   "outputs": [
    {
     "data": {
      "text/plain": [
       "True"
      ]
     },
     "execution_count": 5,
     "metadata": {},
     "output_type": "execute_result"
    }
   ],
   "source": [
    "10 > 5  # greater than"
   ]
  },
  {
   "cell_type": "code",
   "execution_count": 6,
   "id": "5f9f6183-0d01-4a9f-918b-5daaca0a805d",
   "metadata": {},
   "outputs": [
    {
     "data": {
      "text/plain": [
       "True"
      ]
     },
     "execution_count": 6,
     "metadata": {},
     "output_type": "execute_result"
    }
   ],
   "source": [
    "10 <= 15"
   ]
  },
  {
   "cell_type": "code",
   "execution_count": 7,
   "id": "c59d9609-df30-462b-9a17-b0f4067ec2cb",
   "metadata": {},
   "outputs": [
    {
     "data": {
      "text/plain": [
       "False"
      ]
     },
     "execution_count": 7,
     "metadata": {},
     "output_type": "execute_result"
    }
   ],
   "source": [
    "10 <= 9  # less than equal to"
   ]
  },
  {
   "cell_type": "code",
   "execution_count": 8,
   "id": "8d6022b3-4cad-4d0c-97e0-fc8a776094d4",
   "metadata": {},
   "outputs": [
    {
     "data": {
      "text/plain": [
       "False"
      ]
     },
     "execution_count": 8,
     "metadata": {},
     "output_type": "execute_result"
    }
   ],
   "source": [
    "15 >= 20"
   ]
  },
  {
   "cell_type": "code",
   "execution_count": 9,
   "id": "ac2153d7-ac3e-460d-9f8d-83dff0c9e418",
   "metadata": {},
   "outputs": [
    {
     "data": {
      "text/plain": [
       "True"
      ]
     },
     "execution_count": 9,
     "metadata": {},
     "output_type": "execute_result"
    }
   ],
   "source": [
    "15 >= 10  #grester than equal to"
   ]
  },
  {
   "cell_type": "markdown",
   "id": "8c4ea82b-0c2a-46e0-a6b9-b6f4ae3fff37",
   "metadata": {},
   "source": [
    "# 3. Logical ( and , or )"
   ]
  },
  {
   "cell_type": "code",
   "execution_count": 10,
   "id": "4c76656f-1767-4a37-8333-addfe446c036",
   "metadata": {},
   "outputs": [
    {
     "data": {
      "text/plain": [
       "True"
      ]
     },
     "execution_count": 10,
     "metadata": {},
     "output_type": "execute_result"
    }
   ],
   "source": [
    "5 < 7 and 10 < 15   # all the condition need true"
   ]
  },
  {
   "cell_type": "code",
   "execution_count": 11,
   "id": "40f828f4-0ea3-4bf4-83d1-eeca82b87c09",
   "metadata": {},
   "outputs": [
    {
     "data": {
      "text/plain": [
       "False"
      ]
     },
     "execution_count": 11,
     "metadata": {},
     "output_type": "execute_result"
    }
   ],
   "source": [
    "10 < 12 and 10 > 25"
   ]
  },
  {
   "cell_type": "code",
   "execution_count": 12,
   "id": "56a4bfa9-f7b1-4583-8bc2-2b31f74b5eed",
   "metadata": {},
   "outputs": [
    {
     "data": {
      "text/plain": [
       "True"
      ]
     },
     "execution_count": 12,
     "metadata": {},
     "output_type": "execute_result"
    }
   ],
   "source": [
    "10 < 12 or 12 < 10"
   ]
  },
  {
   "cell_type": "code",
   "execution_count": 13,
   "id": "fd504191-c9dc-4b98-b668-b6a86a63dc72",
   "metadata": {},
   "outputs": [
    {
     "data": {
      "text/plain": [
       "True"
      ]
     },
     "execution_count": 13,
     "metadata": {},
     "output_type": "execute_result"
    }
   ],
   "source": [
    "10 != 12 or 10!=10"
   ]
  },
  {
   "cell_type": "code",
   "execution_count": 14,
   "id": "bfe8c135-c84b-41bd-8546-b2bd4d57c62e",
   "metadata": {},
   "outputs": [
    {
     "data": {
      "text/plain": [
       "False"
      ]
     },
     "execution_count": 14,
     "metadata": {},
     "output_type": "execute_result"
    }
   ],
   "source": [
    "10<2 or 15< 2  # at least on condition need to be True"
   ]
  },
  {
   "cell_type": "markdown",
   "id": "77aa7f57-5d9b-41aa-862b-90da8ae00a2a",
   "metadata": {},
   "source": [
    " # 4.Assignment ( -=, += , *=, /= )"
   ]
  },
  {
   "cell_type": "code",
   "execution_count": 15,
   "id": "dffb1197-7d50-4012-9de7-168af78b2acf",
   "metadata": {},
   "outputs": [],
   "source": [
    "z = 100\n",
    "z-= 10 # subtracted from orginal value and assings to the same varibale"
   ]
  },
  {
   "cell_type": "code",
   "execution_count": 16,
   "id": "6a83f6bb-9867-4a5d-960f-d4c272b781ca",
   "metadata": {},
   "outputs": [
    {
     "data": {
      "text/plain": [
       "90"
      ]
     },
     "execution_count": 16,
     "metadata": {},
     "output_type": "execute_result"
    }
   ],
   "source": [
    "z"
   ]
  },
  {
   "cell_type": "code",
   "execution_count": 17,
   "id": "1fb892cf-762f-4d56-9518-8d8fc2d914df",
   "metadata": {},
   "outputs": [
    {
     "data": {
      "text/plain": [
       "1000"
      ]
     },
     "execution_count": 17,
     "metadata": {},
     "output_type": "execute_result"
    }
   ],
   "source": [
    "x = 500\n",
    "x*=2\n",
    "x"
   ]
  },
  {
   "cell_type": "code",
   "execution_count": 18,
   "id": "e808b732-7245-44e2-83d4-998c8c5273ce",
   "metadata": {},
   "outputs": [
    {
     "data": {
      "text/plain": [
       "20.0"
      ]
     },
     "execution_count": 18,
     "metadata": {},
     "output_type": "execute_result"
    }
   ],
   "source": [
    "\n",
    "y = 40\n",
    "y /= 2\n",
    "y"
   ]
  },
  {
   "cell_type": "code",
   "execution_count": 19,
   "id": "cd20a75e-357d-44ec-aaf5-800a81a75da3",
   "metadata": {},
   "outputs": [],
   "source": [
    " w =12 \n",
    "w+= 3"
   ]
  },
  {
   "cell_type": "code",
   "execution_count": 20,
   "id": "a97a9599-06a7-4c89-9dd0-0910caf41ac9",
   "metadata": {},
   "outputs": [
    {
     "data": {
      "text/plain": [
       "15"
      ]
     },
     "execution_count": 20,
     "metadata": {},
     "output_type": "execute_result"
    }
   ],
   "source": [
    "w"
   ]
  },
  {
   "cell_type": "markdown",
   "id": "aeab2afd-11c3-42f4-8d14-2b455f2db4f0",
   "metadata": {},
   "source": [
    "# 5. Identy ( is , is not)\n",
    "    we can use for the identification of the variable"
   ]
  },
  {
   "cell_type": "code",
   "execution_count": 21,
   "id": "7a8e3f22-58bc-425f-a528-6d622931bc09",
   "metadata": {},
   "outputs": [],
   "source": [
    "a = 12\n",
    "b =15\n",
    "c=15"
   ]
  },
  {
   "cell_type": "code",
   "execution_count": 22,
   "id": "36b40750-8527-4c38-9d6d-dd76d97b8bc5",
   "metadata": {},
   "outputs": [
    {
     "data": {
      "text/plain": [
       "False"
      ]
     },
     "execution_count": 22,
     "metadata": {},
     "output_type": "execute_result"
    }
   ],
   "source": [
    "a is b"
   ]
  },
  {
   "cell_type": "code",
   "execution_count": 23,
   "id": "f590f495-a9a7-4645-b319-c3bbd2a40067",
   "metadata": {},
   "outputs": [
    {
     "data": {
      "text/plain": [
       "True"
      ]
     },
     "execution_count": 23,
     "metadata": {},
     "output_type": "execute_result"
    }
   ],
   "source": [
    "b is c  "
   ]
  },
  {
   "cell_type": "code",
   "execution_count": 24,
   "id": "e47622a7-69ce-4066-9e06-6d4b8e59ff94",
   "metadata": {},
   "outputs": [
    {
     "data": {
      "text/plain": [
       "True"
      ]
     },
     "execution_count": 24,
     "metadata": {},
     "output_type": "execute_result"
    }
   ],
   "source": [
    "b is not a"
   ]
  },
  {
   "cell_type": "code",
   "execution_count": 25,
   "id": "846fd323-de5c-41cf-bad3-5f0971e2447c",
   "metadata": {},
   "outputs": [
    {
     "data": {
      "text/plain": [
       "False"
      ]
     },
     "execution_count": 25,
     "metadata": {},
     "output_type": "execute_result"
    }
   ],
   "source": [
    "b is not c"
   ]
  },
  {
   "cell_type": "markdown",
   "id": "0b008e81-7985-4b4b-9dca-aab98e5e1eda",
   "metadata": {},
   "source": [
    "# 6. Membership ( in , not in)"
   ]
  },
  {
   "cell_type": "code",
   "execution_count": 26,
   "id": "a73fd9cf-a143-4647-a0ec-d54b4f017561",
   "metadata": {},
   "outputs": [],
   "source": [
    "# We can identify the elements of the list also for set , tuples that are present or not\n",
    "\n",
    "a =['akash', 'vijay','mandar','rahul']"
   ]
  },
  {
   "cell_type": "code",
   "execution_count": 27,
   "id": "f6a40de0-0bf2-407b-970d-cb32becacead",
   "metadata": {},
   "outputs": [
    {
     "data": {
      "text/plain": [
       "True"
      ]
     },
     "execution_count": 27,
     "metadata": {},
     "output_type": "execute_result"
    }
   ],
   "source": [
    "'akash' in a"
   ]
  },
  {
   "cell_type": "code",
   "execution_count": 28,
   "id": "67e686e1-04d8-4de1-94b4-3b43ea2ec81e",
   "metadata": {},
   "outputs": [
    {
     "data": {
      "text/plain": [
       "False"
      ]
     },
     "execution_count": 28,
     "metadata": {},
     "output_type": "execute_result"
    }
   ],
   "source": [
    "'vijay' not in a"
   ]
  },
  {
   "cell_type": "code",
   "execution_count": 29,
   "id": "a3a5c43c-f0ca-4c14-aaa2-a05192a93ff9",
   "metadata": {},
   "outputs": [],
   "source": [
    "s={12 , 'akash',15,'as'}"
   ]
  },
  {
   "cell_type": "code",
   "execution_count": 30,
   "id": "4a731b48-7d5e-40a3-b9e3-829a58ccc2f4",
   "metadata": {},
   "outputs": [
    {
     "data": {
      "text/plain": [
       "True"
      ]
     },
     "execution_count": 30,
     "metadata": {},
     "output_type": "execute_result"
    }
   ],
   "source": [
    "12 in s"
   ]
  },
  {
   "cell_type": "code",
   "execution_count": 31,
   "id": "523d2a69-6786-41de-b00e-0f9895ead188",
   "metadata": {},
   "outputs": [],
   "source": [
    " g = (12,13 ,14,15,'amg')"
   ]
  },
  {
   "cell_type": "code",
   "execution_count": 32,
   "id": "b1b43216-8462-44c1-9738-6644eec691b3",
   "metadata": {},
   "outputs": [
    {
     "data": {
      "text/plain": [
       "True"
      ]
     },
     "execution_count": 32,
     "metadata": {},
     "output_type": "execute_result"
    }
   ],
   "source": [
    "'amg' in g"
   ]
  },
  {
   "cell_type": "code",
   "execution_count": 33,
   "id": "11ebc88e-7f3e-4303-8714-712ac926fd25",
   "metadata": {},
   "outputs": [
    {
     "data": {
      "text/plain": [
       "False"
      ]
     },
     "execution_count": 33,
     "metadata": {},
     "output_type": "execute_result"
    }
   ],
   "source": [
    "15 not in g"
   ]
  },
  {
   "cell_type": "code",
   "execution_count": null,
   "id": "b6d312ab-7dd2-428d-b56a-c67ade6ffd87",
   "metadata": {},
   "outputs": [],
   "source": []
  },
  {
   "cell_type": "code",
   "execution_count": null,
   "id": "1c4cb864-f19c-4410-ae67-340036993890",
   "metadata": {},
   "outputs": [],
   "source": []
  },
  {
   "cell_type": "code",
   "execution_count": null,
   "id": "058e4714-8e04-4fcf-a1cd-8bc420741383",
   "metadata": {},
   "outputs": [],
   "source": []
  },
  {
   "cell_type": "code",
   "execution_count": null,
   "id": "49f8ed5e-8c3b-422c-91bc-4ff118cb8b49",
   "metadata": {},
   "outputs": [],
   "source": []
  },
  {
   "cell_type": "code",
   "execution_count": null,
   "id": "7ec821ba-5061-4678-9074-fc9d92acb71c",
   "metadata": {},
   "outputs": [],
   "source": []
  },
  {
   "cell_type": "code",
   "execution_count": null,
   "id": "e993f319-8e10-4b64-b15e-645375a5bb2b",
   "metadata": {},
   "outputs": [],
   "source": []
  },
  {
   "cell_type": "code",
   "execution_count": null,
   "id": "361066f0-9250-4182-a8c1-df2d66c09392",
   "metadata": {},
   "outputs": [],
   "source": []
  },
  {
   "cell_type": "code",
   "execution_count": null,
   "id": "ca53fca2-2576-4390-a634-a1be9ff3b928",
   "metadata": {},
   "outputs": [],
   "source": []
  },
  {
   "cell_type": "code",
   "execution_count": null,
   "id": "077d6fdf-716c-48cf-9c0e-816671f62dc1",
   "metadata": {},
   "outputs": [],
   "source": []
  }
 ],
 "metadata": {
  "kernelspec": {
   "display_name": "Python 3 (ipykernel)",
   "language": "python",
   "name": "python3"
  },
  "language_info": {
   "codemirror_mode": {
    "name": "ipython",
    "version": 3
   },
   "file_extension": ".py",
   "mimetype": "text/x-python",
   "name": "python",
   "nbconvert_exporter": "python",
   "pygments_lexer": "ipython3",
   "version": "3.11.5"
  }
 },
 "nbformat": 4,
 "nbformat_minor": 5
}
