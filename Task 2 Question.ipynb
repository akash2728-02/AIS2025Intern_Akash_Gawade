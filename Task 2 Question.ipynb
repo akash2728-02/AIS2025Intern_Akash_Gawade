{
 "cells": [
  {
   "cell_type": "markdown",
   "id": "6b86aa84-6073-48b3-bd38-643d78a53420",
   "metadata": {},
   "source": [
    "Solve Using if and for loop  and data types methods ; \n",
    "\n",
    "Given a list, write a Python code  to swap first and last element of the list.\n",
    "\n",
    "write code count lenght of string\n",
    "\n",
    "Write a Python program to get the sum of a only non-negative integer. ex, [1,4,-5,-20,10] ans is 15\n",
    "\n",
    "\n",
    "write code of factorial , ex.ans 6 (3*2*1)"
   ]
  },
  {
   "cell_type": "code",
   "execution_count": 2,
   "id": "d7618a4e-ae62-4982-99a4-ada16c7d299c",
   "metadata": {},
   "outputs": [],
   "source": [
    "def swap_elem (num):\n",
    "    if len(num) > 1:\n",
    "        temp = num[0]\n",
    "        num[0] = num[-1]\n",
    "        num[-1]= temp\n",
    "    return num"
   ]
  },
  {
   "cell_type": "code",
   "execution_count": 5,
   "id": "487cccd3-defb-447a-846c-29554d3b88ba",
   "metadata": {},
   "outputs": [],
   "source": [
    "# swaping the fist nd last element"
   ]
  },
  {
   "cell_type": "code",
   "execution_count": null,
   "id": "fc6c8131-ee47-4a59-bf59-c544d50f094f",
   "metadata": {},
   "outputs": [],
   "source": []
  },
  {
   "cell_type": "code",
   "execution_count": 6,
   "id": "59437150-5d08-402e-94da-d33562a2d3fb",
   "metadata": {},
   "outputs": [],
   "source": [
    "list1 = [12,14,16,18,20]"
   ]
  },
  {
   "cell_type": "code",
   "execution_count": 7,
   "id": "f0435f7e-a4eb-4761-8492-fa40efbb7f1a",
   "metadata": {},
   "outputs": [
    {
     "name": "stdout",
     "output_type": "stream",
     "text": [
      "[20, 14, 16, 18, 12]\n"
     ]
    }
   ],
   "source": [
    "print(swap_elem(list1))"
   ]
  },
  {
   "cell_type": "code",
   "execution_count": null,
   "id": "8f7ebd31-6420-4602-abf7-ca94e8c35df7",
   "metadata": {},
   "outputs": [],
   "source": []
  },
  {
   "cell_type": "code",
   "execution_count": 12,
   "id": "49709b5e-8125-42e6-b5c0-9df395980b58",
   "metadata": {},
   "outputs": [],
   "source": [
    "# counting the length of str\n",
    "def count_len(lst):\n",
    "    count = 0\n",
    "    for i in lst:\n",
    "        count +=1\n",
    "    return count"
   ]
  },
  {
   "cell_type": "code",
   "execution_count": 17,
   "id": "e592d41d-7f32-4ad7-97e0-65bb6011b7d6",
   "metadata": {},
   "outputs": [],
   "source": [
    "string = 'Hello Akash'"
   ]
  },
  {
   "cell_type": "code",
   "execution_count": 18,
   "id": "b0c99995-563c-41c3-ac9f-a6981b030b65",
   "metadata": {},
   "outputs": [
    {
     "name": "stdout",
     "output_type": "stream",
     "text": [
      "11\n"
     ]
    }
   ],
   "source": [
    "print(count_len(string))"
   ]
  },
  {
   "cell_type": "code",
   "execution_count": null,
   "id": "a0a805ea-0d8b-4907-bde0-40ac093c4985",
   "metadata": {},
   "outputs": [],
   "source": [
    "##### print(f'string length of {string} is = {count_len(string)}')"
   ]
  },
  {
   "cell_type": "code",
   "execution_count": 24,
   "id": "98ad96fa-fe5d-4286-9272-c5ee02e19958",
   "metadata": {},
   "outputs": [],
   "source": [
    "# sum ofnegative numbers\n",
    "f = [1,4,-5,-20,10]"
   ]
  },
  {
   "cell_type": "code",
   "execution_count": 42,
   "id": "6ffdc395-212f-44c9-9665-838b468784b5",
   "metadata": {},
   "outputs": [],
   "source": [
    "sum1 =0\n",
    "for i in f:\n",
    "    if i >= 0:\n",
    "        sum1 += i\n",
    "        "
   ]
  },
  {
   "cell_type": "code",
   "execution_count": 43,
   "id": "cad86c56-de6a-41cb-8433-1a108e9e2888",
   "metadata": {},
   "outputs": [
    {
     "name": "stdout",
     "output_type": "stream",
     "text": [
      "15\n"
     ]
    }
   ],
   "source": [
    "print(sum1)"
   ]
  },
  {
   "cell_type": "code",
   "execution_count": 65,
   "id": "8fded385-d72b-4ed7-834b-e2a41c15d45b",
   "metadata": {},
   "outputs": [],
   "source": [
    "# Factorial\n",
    "num =5\n",
    "res = 1\n",
    "for i in range (1, num+1):\n",
    "    res *= i"
   ]
  },
  {
   "cell_type": "code",
   "execution_count": 66,
   "id": "b2e16159-e83f-402c-add8-d967fe40b098",
   "metadata": {},
   "outputs": [
    {
     "name": "stdout",
     "output_type": "stream",
     "text": [
      "120\n"
     ]
    }
   ],
   "source": [
    "print(res)"
   ]
  },
  {
   "cell_type": "code",
   "execution_count": 67,
   "id": "fb4fb91e-5105-457f-bfa0-2886b441be5f",
   "metadata": {},
   "outputs": [
    {
     "name": "stdout",
     "output_type": "stream",
     "text": [
      "the factorail of 5 is 120\n"
     ]
    }
   ],
   "source": [
    "print(f'the factorail of {num} is {res}')"
   ]
  },
  {
   "cell_type": "code",
   "execution_count": null,
   "id": "2ce3859f-cc2d-45fa-baf6-a58975ea1a63",
   "metadata": {},
   "outputs": [],
   "source": []
  },
  {
   "cell_type": "code",
   "execution_count": null,
   "id": "c2a26f49-7d7b-47ac-882b-e367d120391b",
   "metadata": {},
   "outputs": [],
   "source": []
  }
 ],
 "metadata": {
  "kernelspec": {
   "display_name": "Python 3 (ipykernel)",
   "language": "python",
   "name": "python3"
  },
  "language_info": {
   "codemirror_mode": {
    "name": "ipython",
    "version": 3
   },
   "file_extension": ".py",
   "mimetype": "text/x-python",
   "name": "python",
   "nbconvert_exporter": "python",
   "pygments_lexer": "ipython3",
   "version": "3.11.5"
  }
 },
 "nbformat": 4,
 "nbformat_minor": 5
}
