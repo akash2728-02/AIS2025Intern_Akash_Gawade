{
 "cells": [
  {
   "cell_type": "markdown",
   "id": "c74425ac-63a0-48c4-8bca-91295b82536c",
   "metadata": {},
   "source": [
    "# Numpy ( Numrical Python)\n",
    "    Numrical Python is a library for working with array and mathematical operation in Python. It is a fundamental packages for scientific computing with Python and is widely used in various fields. \n",
    "    "
   ]
  },
  {
   "cell_type": "markdown",
   "id": "3d102be6-8fbf-4a48-92b6-62abf52fce15",
   "metadata": {},
   "source": [
    "NumPy library provides the mathematical operation at once on the array for computation, it is Used for linear algebra, random number generation , and many more. Numpy provides support for large multi-dimensional array and matrices, which are important for scientific computation.\n",
    "      It is faster than did the operation on the Python list. It also works with libraries such as Pandas, Matplotlib  , Scipy, etc.\n",
    "\n",
    "# Installation\n",
    "    The Numrical Python Libraries installed by using the command line \" !pip install numpy\" or \"pip install numpy\" in the python command propmt."
   ]
  },
  {
   "cell_type": "code",
   "execution_count": null,
   "id": "3817bb4d-20c0-40b6-8810-5d1640b3f91b",
   "metadata": {},
   "outputs": [],
   "source": [
    "\n"
   ]
  },
  {
   "cell_type": "markdown",
   "id": "00aadf6c-dc43-4b53-8387-94bf7ac96a36",
   "metadata": {},
   "source": [
    "# Array in the numpy\n",
    "    In the ndarray(), the array have any dimensional including 1D, 2D, 3D,....\n",
    "    Item of the array must be same data type. It is mutable data set, its mean we can add the data after creation thr array"
   ]
  },
  {
   "cell_type": "code",
   "execution_count": 1,
   "id": "2cd214c5-2a5c-4309-b1c9-c6f091f7cabf",
   "metadata": {},
   "outputs": [
    {
     "name": "stdout",
     "output_type": "stream",
     "text": [
      "[1 2 3 4 5]\n"
     ]
    }
   ],
   "source": [
    "#Creation of array\n",
    "import numpy as np\n",
    "\n",
    "x = np.array([1,2,3,4,5])  # we creating the array using the list or tuple\n",
    "print(x)"
   ]
  },
  {
   "cell_type": "code",
   "execution_count": 2,
   "id": "63d2b7b9-fb0a-4f79-8fc1-31671d85cb4f",
   "metadata": {},
   "outputs": [
    {
     "name": "stdout",
     "output_type": "stream",
     "text": [
      "<class 'numpy.ndarray'>\n"
     ]
    }
   ],
   "source": [
    "print(type(x))"
   ]
  },
  {
   "cell_type": "code",
   "execution_count": 3,
   "id": "4f29750d-e342-4b98-b97e-7ba14c2e2020",
   "metadata": {},
   "outputs": [
    {
     "name": "stdout",
     "output_type": "stream",
     "text": [
      "[[0. 0. 0.]\n",
      " [0. 0. 0.]]\n"
     ]
    }
   ],
   "source": [
    "#np.zeros()\n",
    "xx = np.zeros((2,3)) # Creating the matric of zeros of 2 row and 3 column\n",
    "print(xx)"
   ]
  },
  {
   "cell_type": "code",
   "execution_count": 4,
   "id": "5fa24a4f-91aa-44a8-93db-524cee9693e0",
   "metadata": {},
   "outputs": [
    {
     "name": "stdout",
     "output_type": "stream",
     "text": [
      "[[1. 1. 1. 1.]\n",
      " [1. 1. 1. 1.]\n",
      " [1. 1. 1. 1.]]\n",
      "<class 'numpy.ndarray'>\n"
     ]
    }
   ],
   "source": [
    " xxx = np.ones((3,4)) # creating the matric of 1 with 3 raw and 4 column\n",
    "print(xxx)\n",
    "print(type(xxx))"
   ]
  },
  {
   "cell_type": "code",
   "execution_count": 5,
   "id": "f754f647-f40f-4c4b-b121-20f82db44eb5",
   "metadata": {},
   "outputs": [
    {
     "name": "stdout",
     "output_type": "stream",
     "text": [
      "[1 3 5 7 9]\n"
     ]
    }
   ],
   "source": [
    "# we can create the array with a perticular rang by using the np.arange()\n",
    "\n",
    "xxxx = np.arange(1,10,2) # craeting the array in range 1 to 10(excluded) with difference of 2\n",
    "print(xxxx)"
   ]
  },
  {
   "cell_type": "code",
   "execution_count": 6,
   "id": "4fd3e751-80f9-4ed6-b622-73c0c01403b8",
   "metadata": {},
   "outputs": [
    {
     "name": "stdout",
     "output_type": "stream",
     "text": [
      "[ 1.  4.  7. 10.]\n"
     ]
    }
   ],
   "source": [
    "# taking the sample between specific range of fixed difference\n",
    "x1 = np.linspace(1,10,4) # 4 sample between 1 to 10\n",
    "print(x1)"
   ]
  },
  {
   "cell_type": "markdown",
   "id": "51392283-2593-4c64-b69a-fb27b0281570",
   "metadata": {},
   "source": [
    "# Indexing and Slicing"
   ]
  },
  {
   "cell_type": "code",
   "execution_count": 7,
   "id": "a5e19158-99bd-459e-9e20-89972e4b91be",
   "metadata": {},
   "outputs": [
    {
     "name": "stdout",
     "output_type": "stream",
     "text": [
      "4.0\n",
      "2is element of the [1 2 3 4 5]\n"
     ]
    }
   ],
   "source": [
    "# Indexing \n",
    "# we have a list ,from the list we can access the single element uasing index of the element\n",
    "print(x1[1])\n",
    "print(f'{x[1]}is element of the {x}')"
   ]
  },
  {
   "cell_type": "code",
   "execution_count": 8,
   "id": "0684b55e-b489-4b2f-aa56-12b44123aea0",
   "metadata": {},
   "outputs": [],
   "source": [
    "# Slicing \n",
    "# we can access the elemnet of list in between range . its mean we can access the elemnt of of spefic range"
   ]
  },
  {
   "cell_type": "code",
   "execution_count": 9,
   "id": "e5b95ebd-87b0-42b3-9c93-9360e0a8ffea",
   "metadata": {},
   "outputs": [
    {
     "name": "stdout",
     "output_type": "stream",
     "text": [
      "[2 3]\n"
     ]
    }
   ],
   "source": [
    "print(x[1:3])"
   ]
  },
  {
   "cell_type": "code",
   "execution_count": 10,
   "id": "4f7f04db-6784-4d65-970c-215d70da01d5",
   "metadata": {},
   "outputs": [
    {
     "name": "stdout",
     "output_type": "stream",
     "text": [
      "[[0. 0. 0.]\n",
      " [0. 0. 0.]]\n"
     ]
    }
   ],
   "source": [
    "# Extract the first two rows and all columns\n",
    "print(xx[:2, :])  "
   ]
  },
  {
   "cell_type": "markdown",
   "id": "a647286a-6f61-437e-af92-2fb9c673d41f",
   "metadata": {},
   "source": [
    "# Arithmetic Operations on NumPy Arrays:\n",
    "NumPy allows you to perform element-wise arithmetic operations on arrays efficiently without the need for explicit loops\n",
    "- addition\n",
    "- Substraction\n",
    "- multiplication\n",
    "- division\n",
    "            \n",
    "    we can done arithmetic operation on array directly\n",
    "    also we can get sq.root ,sin(), exponential()"
   ]
  },
  {
   "cell_type": "code",
   "execution_count": 11,
   "id": "e4b37411-7e98-4ff4-b787-95dc8e53ff15",
   "metadata": {},
   "outputs": [
    {
     "name": "stdout",
     "output_type": "stream",
     "text": [
      "[1 2 3 4 5]\n",
      "[3 4 5 6 7]\n",
      "[[2. 2. 2.]\n",
      " [2. 2. 2.]]\n",
      "original[[1. 1. 1. 1.]\n",
      " [1. 1. 1. 1.]\n",
      " [1. 1. 1. 1.]] after adding the element [[4. 4. 4. 4.]\n",
      " [4. 4. 4. 4.]\n",
      " [4. 4. 4. 4.]]\n"
     ]
    }
   ],
   "source": [
    "# Addition\n",
    "\n",
    "print(x)\n",
    "print(x+2 )# we added the 2 in all element \n",
    "print(xx+2)\n",
    "x_3 =xxx+3\n",
    "print(f'original{xxx} after adding the element {x_3}')"
   ]
  },
  {
   "cell_type": "code",
   "execution_count": 12,
   "id": "c8c69f41-b055-406b-a102-cc04a9090185",
   "metadata": {},
   "outputs": [
    {
     "name": "stdout",
     "output_type": "stream",
     "text": [
      "Original[1 2 3 4 5] after subtraction 2 from x=[-1  0  1  2  3]\n",
      "Original[[0. 0. 0.]\n",
      " [0. 0. 0.]] after subtraction  from xx=[[-5. -5. -5.]\n",
      " [-5. -5. -5.]]\n"
     ]
    }
   ],
   "source": [
    "# Subtraction\n",
    "print(f'Original{x} after subtraction 2 from x={x-2}')\n",
    "\n",
    "print(f'Original{xx} after subtraction  from xx={xx-5}')  #xx is np.zeros( ) array   (2D array)"
   ]
  },
  {
   "cell_type": "code",
   "execution_count": 13,
   "id": "dfb071de-1ec3-42f7-b551-534057114090",
   "metadata": {},
   "outputs": [
    {
     "name": "stdout",
     "output_type": "stream",
     "text": [
      "Original[1 2 3 4 5] after  Division 4 from x=[0.25 0.5  0.75 1.   1.25]\n"
     ]
    }
   ],
   "source": [
    "# Division\n",
    "print(f'Original{x} after  Division 4 from x={x/4}')"
   ]
  },
  {
   "cell_type": "code",
   "execution_count": 14,
   "id": "496118fd-89c4-434a-b43a-14a605891464",
   "metadata": {},
   "outputs": [
    {
     "name": "stdout",
     "output_type": "stream",
     "text": [
      "Original[1 2 3 4 5] after multiplication 2 from x=[ 2  4  6  8 10]\n"
     ]
    }
   ],
   "source": [
    "# Multiplication\n",
    "\n",
    "print(f'Original{x} after multiplication 2 from x={x*2}')"
   ]
  },
  {
   "cell_type": "code",
   "execution_count": 15,
   "id": "0367ecd2-fc28-4d75-ab78-97013b5d2088",
   "metadata": {},
   "outputs": [
    {
     "name": "stdout",
     "output_type": "stream",
     "text": [
      "[1.         1.41421356 1.73205081 2.         2.23606798]\n",
      " Oroginal [1 3 5 7 9] after taking the square root = [1.         1.73205081 2.23606798 2.64575131 3.        ]\n"
     ]
    }
   ],
   "source": [
    "#sq.root()\n",
    "sq = np.sqrt(x)\n",
    "print(sq)\n",
    "print(f' Oroginal {xxxx} after taking the square root = {np.sqrt(xxxx)}')"
   ]
  },
  {
   "cell_type": "code",
   "execution_count": 16,
   "id": "86671a29-6ec8-465f-bce9-c093f0d80409",
   "metadata": {},
   "outputs": [
    {
     "name": "stdout",
     "output_type": "stream",
     "text": [
      "orignal[1 2 3 4 5] after taking sin() [ 0.84147098  0.90929743  0.14112001 -0.7568025  -0.95892427]\n"
     ]
    }
   ],
   "source": [
    "#sin()\n",
    "print(f'orignal{x} after taking sin() {np.sin(x)}')"
   ]
  },
  {
   "cell_type": "code",
   "execution_count": 17,
   "id": "9faca7bd-4ab9-46c5-8c21-f1a169ada53e",
   "metadata": {},
   "outputs": [
    {
     "name": "stdout",
     "output_type": "stream",
     "text": [
      "original [[1. 1. 1. 1.]\n",
      " [1. 1. 1. 1.]\n",
      " [1. 1. 1. 1.]] after taking exponential [[2.71828183 2.71828183 2.71828183 2.71828183]\n",
      " [2.71828183 2.71828183 2.71828183 2.71828183]\n",
      " [2.71828183 2.71828183 2.71828183 2.71828183]]\n"
     ]
    }
   ],
   "source": [
    "# Exponential\n",
    "print(f'original {xxx} after taking exponential {np.exp(xxx)}')"
   ]
  },
  {
   "cell_type": "code",
   "execution_count": 18,
   "id": "2e9ae530-6635-46e3-8b83-ea809c162c49",
   "metadata": {},
   "outputs": [],
   "source": [
    "c =[[1,2,3,4],[4,5,6,7],[7,8,9,10]]\n",
    "v =np.array(c)"
   ]
  },
  {
   "cell_type": "code",
   "execution_count": null,
   "id": "2941814d-e11d-4f3a-8b37-f514564cf35d",
   "metadata": {},
   "outputs": [],
   "source": []
  },
  {
   "cell_type": "markdown",
   "id": "038f0cd7-6bda-4493-af3a-845cdb091499",
   "metadata": {},
   "source": [
    "# Array Shape and  Reshape\n",
    "    Checking array dimensions with .shape and .ndim.\n",
    "    Changing array shape with .reshape(), .flatten(), .transpose().\n",
    "    Concatenating and splitting arrays using np.concatenate(), np.vstack(), np.hstack(), np.split()."
   ]
  },
  {
   "cell_type": "code",
   "execution_count": 19,
   "id": "d8ef15f9-079c-477a-b97d-55d09d7cc8f0",
   "metadata": {},
   "outputs": [
    {
     "name": "stdout",
     "output_type": "stream",
     "text": [
      "[[ 1  2  3  4]\n",
      " [ 4  5  6  7]\n",
      " [ 7  8  9 10]]\n",
      "(3, 4)\n",
      "2\n"
     ]
    }
   ],
   "source": [
    "# we can check the dimension , shape of the array\n",
    "print(v)\n",
    "print(v.shape)  # it will be 3 ,3 of three column and 3 row\n",
    "\n",
    "print(v.ndim) # it will be give the dimensional of the array"
   ]
  },
  {
   "cell_type": "code",
   "execution_count": 20,
   "id": "d0361ca3-29bb-469b-bd9f-78ac70e17a03",
   "metadata": {},
   "outputs": [
    {
     "name": "stdout",
     "output_type": "stream",
     "text": [
      "original [[ 1  2  3  4]\n",
      " [ 4  5  6  7]\n",
      " [ 7  8  9 10]] and after reshape [[ 1  2  3]\n",
      " [ 4  4  5]\n",
      " [ 6  7  7]\n",
      " [ 8  9 10]]\n"
     ]
    }
   ],
   "source": [
    "print(f'original {v} and after reshape {v.reshape(4,3)}')\n",
    "# origonal matrix conatain 3 row and 4 column, after reshape we converted into 4 row and 3 column"
   ]
  },
  {
   "cell_type": "code",
   "execution_count": 21,
   "id": "c17477b8-bae8-412a-88c4-a416c294c863",
   "metadata": {},
   "outputs": [
    {
     "name": "stdout",
     "output_type": "stream",
     "text": [
      "[ 1  2  3  4  4  5  6  7  7  8  9 10]\n"
     ]
    }
   ],
   "source": [
    "print(v.flatten())\n",
    "# this function convert a matrix into a single array"
   ]
  },
  {
   "cell_type": "code",
   "execution_count": 22,
   "id": "5055b336-1541-4f09-aea4-21af5a8b034a",
   "metadata": {},
   "outputs": [
    {
     "data": {
      "text/plain": [
       "array([[ 1,  4,  7],\n",
       "       [ 2,  5,  8],\n",
       "       [ 3,  6,  9],\n",
       "       [ 4,  7, 10]])"
      ]
     },
     "execution_count": 22,
     "metadata": {},
     "output_type": "execute_result"
    }
   ],
   "source": [
    "v.transpose()\n",
    "# taking th tranpose of the matric"
   ]
  },
  {
   "cell_type": "code",
   "execution_count": 23,
   "id": "425f7370-6a44-47c2-bb06-dcf0778aca05",
   "metadata": {},
   "outputs": [],
   "source": [
    "\n",
    "z=np.concatenate(v)"
   ]
  },
  {
   "cell_type": "code",
   "execution_count": 24,
   "id": "cbe07e72-f18b-43ab-b9c6-19c9d798a81c",
   "metadata": {},
   "outputs": [
    {
     "name": "stdout",
     "output_type": "stream",
     "text": [
      "[ 1  2  3  4  4  5  6  7  7  8  9 10]\n"
     ]
    }
   ],
   "source": [
    "print(z)"
   ]
  },
  {
   "cell_type": "code",
   "execution_count": 25,
   "id": "592bd24d-0c0b-4dd5-85f8-58ad8fd93b32",
   "metadata": {},
   "outputs": [
    {
     "data": {
      "text/plain": [
       "array([ 1,  2,  3,  4,  4,  5,  6,  7,  7,  8,  9, 10])"
      ]
     },
     "execution_count": 25,
     "metadata": {},
     "output_type": "execute_result"
    }
   ],
   "source": [
    "np.hstack(v)"
   ]
  },
  {
   "cell_type": "code",
   "execution_count": 26,
   "id": "47ea2da3-18dd-45ea-a965-2126300f99b3",
   "metadata": {},
   "outputs": [
    {
     "data": {
      "text/plain": [
       "array([[ 1,  2,  3,  4],\n",
       "       [ 4,  5,  6,  7],\n",
       "       [ 7,  8,  9, 10]])"
      ]
     },
     "execution_count": 26,
     "metadata": {},
     "output_type": "execute_result"
    }
   ],
   "source": [
    "np.vstack(v)"
   ]
  },
  {
   "cell_type": "code",
   "execution_count": 27,
   "id": "a7887b81-cc0b-4bf6-9b16-fb6efb7fd7a1",
   "metadata": {},
   "outputs": [],
   "source": [
    "a,b,c=np.split(v,3)"
   ]
  },
  {
   "cell_type": "code",
   "execution_count": 28,
   "id": "d03c0e8e-a983-4fee-a516-23e970636014",
   "metadata": {},
   "outputs": [
    {
     "data": {
      "text/plain": [
       "array([[1, 2, 3, 4]])"
      ]
     },
     "execution_count": 28,
     "metadata": {},
     "output_type": "execute_result"
    }
   ],
   "source": [
    "a"
   ]
  },
  {
   "cell_type": "markdown",
   "id": "5b5b68e1-1b05-4508-80bf-3d33f29d58c6",
   "metadata": {},
   "source": [
    "# Broadcasting in Numpy\n",
    "- Broadcasting is the powerful tool that allowa to operation betwee array of different shapes. It enables efficient computation without the needd to explicitly create intermediate arrays, leading to significant performance gains.\n",
    "-  key rules of broadcasting : Rule 1 Shape campatibility\n",
    "Arrays must have compatible shapes for broadcasting to occur.\n",
    "Two dimensions are compatible when\n",
    "- They are equal\n",
    "- One of the is Rule 2: ImplicitExpansion\n",
    "  Dimension of size 1 are stretched or 'broadcasting' to match the corresponding dimension of the other array."
   ]
  },
  {
   "cell_type": "code",
   "execution_count": 29,
   "id": "f7b2c21f-0b3d-4113-9281-54062b9e0be4",
   "metadata": {},
   "outputs": [
    {
     "name": "stdout",
     "output_type": "stream",
     "text": [
      "Brodcasting is= [5 7 9]\n"
     ]
    }
   ],
   "source": [
    "x = np.array([2,4,6]) # shape(3,)\n",
    "y = np.array([3]) #shape(1)\n",
    "c = x+y\n",
    "\n",
    "print('Brodcasting is=',c)"
   ]
  },
  {
   "cell_type": "code",
   "execution_count": 30,
   "id": "7c1be24e-3256-4615-81b4-082e73bdc962",
   "metadata": {},
   "outputs": [
    {
     "name": "stdout",
     "output_type": "stream",
     "text": [
      "Scalar broadcasting is = [ 4  8 12]\n"
     ]
    }
   ],
   "source": [
    "# Scalar brodcasting\n",
    "x = np.array([2,4,6]) \n",
    "a = 2\n",
    "d = x*a\n",
    "\n",
    "print(f'Scalar broadcasting is = {d}')"
   ]
  },
  {
   "cell_type": "code",
   "execution_count": 31,
   "id": "fccda745-8924-4137-9772-c9506656ddaf",
   "metadata": {},
   "outputs": [
    {
     "name": "stdout",
     "output_type": "stream",
     "text": [
      "Array Broadcasting:\n",
      " [[11 22 33]\n",
      " [41 52 63]]\n"
     ]
    }
   ],
   "source": [
    "#array bradcasting\n",
    "X = np.array([[10,20,30],[40,50,60]])\n",
    "Y = np.array([1,2,3])\n",
    "\n",
    "c = X+Y\n",
    "print(\"Array Broadcasting:\\n\", c)"
   ]
  },
  {
   "cell_type": "markdown",
   "id": "230e30e4-d53b-4158-ab39-9357c531bc22",
   "metadata": {},
   "source": [
    "# Array Manipulation Indexing and slicing: understanding multi-dimensional arrays. Masking (logical indexing based on conditions). Fancy indexing (using arrays of indices to select elements)."
   ]
  },
  {
   "cell_type": "code",
   "execution_count": 32,
   "id": "a4bdcede-bef0-4cad-a94e-1f5574770be3",
   "metadata": {},
   "outputs": [
    {
     "name": "stdout",
     "output_type": "stream",
     "text": [
      "3\n",
      "2\n",
      "6\n"
     ]
    }
   ],
   "source": [
    "#indexing\n",
    "import numpy as np\n",
    "ar = np.array([[1, 2, 3], [4, 5 ,6]])\n",
    "# Accesing the elements\n",
    "print(ar[0,2])\n",
    "print(ar[0,1])\n",
    "print(ar[1,2])\n"
   ]
  },
  {
   "cell_type": "code",
   "execution_count": 33,
   "id": "b8cef1f9-e742-4d65-89dd-f7fd1b065225",
   "metadata": {},
   "outputs": [
    {
     "name": "stdout",
     "output_type": "stream",
     "text": [
      "[[1 2 3]\n",
      " [4 5 6]]\n",
      "[2 5]\n",
      "[5 6]\n"
     ]
    }
   ],
   "source": [
    "# Slicing \n",
    "print(ar[0:2])\n",
    "print(ar[:,1])\n",
    "print(ar[1,1:])"
   ]
  },
  {
   "cell_type": "markdown",
   "id": "afd617b8-3f7e-4523-b9a4-f4552cdcafc5",
   "metadata": {},
   "source": [
    "# Masking \n",
    "    Logical Indexing\n",
    "- Masking is also known as boolean indexing  ,ia a powerful technique in NunPy that allows user to select elements from an array base on boolean condition."
   ]
  },
  {
   "cell_type": "code",
   "execution_count": 34,
   "id": "2f14d1f0-8b48-4bd2-963c-9d4f90a17760",
   "metadata": {},
   "outputs": [
    {
     "name": "stdout",
     "output_type": "stream",
     "text": [
      "[1 3 4 5 6 7 8 9]\n"
     ]
    }
   ],
   "source": [
    "a1 = np.array([1,2,3,4,5,6,7,8,9])\n",
    "mk =a1 != 2  # not equal to 2\n",
    "print(a1[mk])\n"
   ]
  },
  {
   "cell_type": "code",
   "execution_count": 35,
   "id": "a38a22cd-21b9-4284-82df-39795ef51b9e",
   "metadata": {},
   "outputs": [
    {
     "name": "stdout",
     "output_type": "stream",
     "text": [
      "[3 4 5 6 7 8 9]\n"
     ]
    }
   ],
   "source": [
    "# using same arrray\n",
    "mask2 =a1>2 # only greater than 2\n",
    "print(a1[mask2])"
   ]
  },
  {
   "cell_type": "markdown",
   "id": "c9862aab-6e1f-408d-ae86-9032ab91d484",
   "metadata": {},
   "source": [
    "# Fancy Indexing\n",
    "Fancy indexing allows for flexible selection of elements using arrays if indices."
   ]
  },
  {
   "cell_type": "code",
   "execution_count": 36,
   "id": "a7a59771-2803-49e9-9426-94148a2c978d",
   "metadata": {},
   "outputs": [
    {
     "name": "stdout",
     "output_type": "stream",
     "text": [
      "[10 30 60]\n"
     ]
    }
   ],
   "source": [
    "df = np.array([10,20,30,40,50,60])\n",
    "indices = np.array([0,2,5])\n",
    "\n",
    "\n",
    "selected_ele = df[indices]\n",
    "print(selected_ele)"
   ]
  },
  {
   "cell_type": "code",
   "execution_count": 37,
   "id": "6a3d8238-f351-45cf-ac65-39de8c83fd53",
   "metadata": {},
   "outputs": [
    {
     "name": "stdout",
     "output_type": "stream",
     "text": [
      "[2 9]\n"
     ]
    }
   ],
   "source": [
    "a2 = np.array([[1,2,3],[4,5,6],[7,8,9]])\n",
    "r =np.array([0,2])   # row index\n",
    "c = np.array([1,2])# column index\n",
    "\n",
    "\n",
    "\n",
    "selected = a2[r,c]\n",
    "\n",
    "print(selected)"
   ]
  },
  {
   "cell_type": "markdown",
   "id": "52206082-4139-4e53-b294-e52c4443e991",
   "metadata": {},
   "source": [
    "# Mathematical Functions\n",
    "    -universal fun = ufuncs\n",
    "    -1) np.add()\n",
    "    -2) np.subtract()\n",
    "    np.multiply()\n",
    "\n",
    "    Statistical Functions\n",
    "        -np.mean()\n",
    "        np.meadian()\n",
    "        np.std()\n",
    "        np.var()\n",
    "        np.min()\n",
    "        np.max()\n",
    "        np.mode()\n",
    "    Linear algebra fun\n",
    "        np.dot()\n",
    "        np.matmul()\n",
    "        np.linalg.inv()\n",
    "        np.linalg.eig()\n",
    "        "
   ]
  },
  {
   "cell_type": "markdown",
   "id": "832e9750-fd90-420d-97a2-bcdcf75712b7",
   "metadata": {},
   "source": [
    "# Universal Functions"
   ]
  },
  {
   "cell_type": "code",
   "execution_count": 38,
   "id": "7d4f71ec-5db4-4113-b894-f490959eef91",
   "metadata": {},
   "outputs": [
    {
     "name": "stdout",
     "output_type": "stream",
     "text": [
      "[5 7 9]\n"
     ]
    }
   ],
   "source": [
    "a1 = np.array([1,2,3])\n",
    "a2 = np.array([4,5,6])\n",
    "\n",
    "res=np.add(a1,a2)\n",
    "\n",
    "print(res)"
   ]
  },
  {
   "cell_type": "code",
   "execution_count": 39,
   "id": "f4820795-a93e-4417-934e-28f22e49d24e",
   "metadata": {},
   "outputs": [
    {
     "name": "stdout",
     "output_type": "stream",
     "text": [
      "[-3 -3 -3]\n"
     ]
    }
   ],
   "source": [
    "result = np.subtract(a1 , a2)\n",
    "print(result)"
   ]
  },
  {
   "cell_type": "code",
   "execution_count": 40,
   "id": "5da1de24-ce19-4a6e-b3e0-72c97ed0fa23",
   "metadata": {},
   "outputs": [
    {
     "name": "stdout",
     "output_type": "stream",
     "text": [
      "[ 4 10 18]\n"
     ]
    }
   ],
   "source": [
    "res = np.multiply(a1,a2)\n",
    "\n",
    "print(res)"
   ]
  },
  {
   "cell_type": "code",
   "execution_count": 41,
   "id": "58f65bcd-b70f-4763-8f8b-d93872b9fcac",
   "metadata": {},
   "outputs": [
    {
     "name": "stdout",
     "output_type": "stream",
     "text": [
      "[0.         0.69314718 1.09861229]\n"
     ]
    }
   ],
   "source": [
    "res = np.log(a1)\n",
    "print(res)"
   ]
  },
  {
   "cell_type": "code",
   "execution_count": null,
   "id": "1627609e-de1f-42ef-bdef-9badb797ec00",
   "metadata": {},
   "outputs": [],
   "source": []
  },
  {
   "cell_type": "markdown",
   "id": "cde3e5e5-d86f-494a-a541-d4e5744d653b",
   "metadata": {},
   "source": [
    "# Statistical Functions \n",
    "    These fnction helps to summarise data and analyse data."
   ]
  },
  {
   "cell_type": "code",
   "execution_count": 42,
   "id": "08e59975-f6c8-40c3-a64d-7ce985603b5e",
   "metadata": {},
   "outputs": [],
   "source": [
    "aq = np.array([5,10,15,20,25,30,35,40,45,50])"
   ]
  },
  {
   "cell_type": "code",
   "execution_count": 43,
   "id": "56d8277d-d8bc-44f1-97ff-480e615b94d5",
   "metadata": {},
   "outputs": [],
   "source": [
    "mean_val = np.mean(aq)"
   ]
  },
  {
   "cell_type": "code",
   "execution_count": 44,
   "id": "923cfc58-2cce-4db9-8807-f41178ffc1c5",
   "metadata": {},
   "outputs": [
    {
     "name": "stdout",
     "output_type": "stream",
     "text": [
      "27.5\n"
     ]
    }
   ],
   "source": [
    "print(mean_val)"
   ]
  },
  {
   "cell_type": "code",
   "execution_count": 45,
   "id": "e433df9d-4412-47a5-ba2e-473e57849dc6",
   "metadata": {},
   "outputs": [
    {
     "name": "stdout",
     "output_type": "stream",
     "text": [
      "Standard deviation: 14.361406616345072\n"
     ]
    }
   ],
   "source": [
    "# Standard deviation\n",
    "\n",
    "\n",
    "sdt = np.std(aq)\n",
    "\n",
    "print('Standard deviation:',sdt)"
   ]
  },
  {
   "cell_type": "code",
   "execution_count": 46,
   "id": "926f920f-1b8e-43f4-a95d-9332f3d954e2",
   "metadata": {},
   "outputs": [
    {
     "name": "stdout",
     "output_type": "stream",
     "text": [
      "Median : 27.5\n"
     ]
    }
   ],
   "source": [
    "# Median\n",
    "print('Median :',np.median(aq))"
   ]
  },
  {
   "cell_type": "code",
   "execution_count": 47,
   "id": "42cd7cfc-2594-4ea9-ba40-dd06c7669f66",
   "metadata": {},
   "outputs": [
    {
     "name": "stdout",
     "output_type": "stream",
     "text": [
      "variance 206.25\n"
     ]
    }
   ],
   "source": [
    "# variance\n",
    "print('variance',np.var(aq))"
   ]
  },
  {
   "cell_type": "code",
   "execution_count": 48,
   "id": "7cc9e21d-42ed-4774-9991-16a1cad5a90c",
   "metadata": {},
   "outputs": [
    {
     "name": "stdout",
     "output_type": "stream",
     "text": [
      "Minimum 5\n"
     ]
    }
   ],
   "source": [
    "#Minimum valu\n",
    "print('Minimum',np.min(aq))"
   ]
  },
  {
   "cell_type": "code",
   "execution_count": 49,
   "id": "d451050f-c0f4-4840-ae2a-b90b9dae7bd4",
   "metadata": {},
   "outputs": [
    {
     "name": "stdout",
     "output_type": "stream",
     "text": [
      "maximum 50\n"
     ]
    }
   ],
   "source": [
    "# Maxima\n",
    "print('maximum',np.max(aq))"
   ]
  },
  {
   "cell_type": "markdown",
   "id": "6577e62b-f6c4-4c11-82d7-16c206730f5f",
   "metadata": {},
   "source": [
    "# Liinear Albgebra Funs"
   ]
  },
  {
   "cell_type": "code",
   "execution_count": 50,
   "id": "dcab35c7-e7fd-4753-a92b-42708528e86e",
   "metadata": {},
   "outputs": [
    {
     "name": "stdout",
     "output_type": "stream",
     "text": [
      "32\n"
     ]
    }
   ],
   "source": [
    "#np.dot()  finding dot product of two array\n",
    "a1 = np.array([1,2,3])\n",
    "a2 = np.array([4,5,6])\n",
    "\n",
    "\n",
    "print(np.dot(a1,a2))"
   ]
  },
  {
   "cell_type": "markdown",
   "id": "00aa7d90-e115-40de-a371-9c98e3757370",
   "metadata": {},
   "source": [
    "# matmul()\n",
    " matrix muultiplication of two array"
   ]
  },
  {
   "cell_type": "code",
   "execution_count": 51,
   "id": "69b2b7df-3c0b-47e9-a9b8-caf3cf26f648",
   "metadata": {},
   "outputs": [
    {
     "name": "stdout",
     "output_type": "stream",
     "text": [
      "[[34 47 60]\n",
      " [44 61 78]]\n"
     ]
    }
   ],
   "source": [
    "m1 = np.array([[6,7],[8,9]])\n",
    "m2 = np.array([[1,2,3,],[4,5,6]])\n",
    "\n",
    "\n",
    "\n",
    "prod = np.matmul(m1,m2)\n",
    "print(prod)"
   ]
  },
  {
   "cell_type": "markdown",
   "id": "669f996b-ba73-4cd4-ab61-4f1e38b86f96",
   "metadata": {},
   "source": [
    " np.linalg.inv()\n",
    "     calculate the inverse of a square matrix\n",
    "     "
   ]
  },
  {
   "cell_type": "code",
   "execution_count": 52,
   "id": "7c037047-1c20-4d6f-b5be-8dff0c677ffb",
   "metadata": {},
   "outputs": [
    {
     "name": "stdout",
     "output_type": "stream",
     "text": [
      "[[-2.   1. ]\n",
      " [ 1.5 -0.5]]\n"
     ]
    }
   ],
   "source": [
    "\n",
    "mat = np.array([[1,2],[3,4]])\n",
    "inv = np.linalg.inv(mat)\n",
    "print(inv)"
   ]
  },
  {
   "cell_type": "markdown",
   "id": "1297a529-06c4-4048-89bd-d5875178b2c1",
   "metadata": {},
   "source": [
    "# np.linalg.eig()]\n",
    "    computes the eigens values and eigen values vector of a square matrix\n"
   ]
  },
  {
   "cell_type": "code",
   "execution_count": 53,
   "id": "96080622-e086-453b-a605-364e93f744ea",
   "metadata": {},
   "outputs": [
    {
     "name": "stdout",
     "output_type": "stream",
     "text": [
      "Eigenvalues: [-0.37228132  5.37228132]\n",
      "Eigenvectors:\n",
      " [[-0.82456484 -0.41597356]\n",
      " [ 0.56576746 -0.90937671]]\n"
     ]
    }
   ],
   "source": [
    "\n",
    "a = np.array([[1, 2], [3, 4]]) \n",
    "w, v = np.linalg.eig(a)\n",
    "\n",
    "print(\"Eigenvalues:\", w)  \n",
    "print(\"Eigenvectors:\\n\", v)"
   ]
  },
  {
   "cell_type": "markdown",
   "id": "1fa2376b-dd12-4fbd-92e0-5f16298b4972",
   "metadata": {},
   "source": [
    "# Random Number Generation:-\n",
    "Random number generation is the process of creating a sequence of numbers that appear to be random.\n"
   ]
  },
  {
   "cell_type": "code",
   "execution_count": 54,
   "id": "17c2ca1b-927c-496b-8602-9113e6fdc15c",
   "metadata": {},
   "outputs": [
    {
     "data": {
      "text/plain": [
       "array([[0.12011724, 0.93268174, 0.7624758 , 0.14954996],\n",
       "       [0.5409422 , 0.53891434, 0.72100726, 0.42398601],\n",
       "       [0.81605267, 0.7403718 , 0.70195164, 0.50605921]])"
      ]
     },
     "execution_count": 54,
     "metadata": {},
     "output_type": "execute_result"
    }
   ],
   "source": [
    "np.random.random((3,4))"
   ]
  },
  {
   "cell_type": "markdown",
   "id": "a893e460-3b0c-4a22-99c7-94fea78b99c2",
   "metadata": {},
   "source": [
    "# rand():\n",
    "It will generate random value between 0-l and reshape(x,y) to craete x*y matrix."
   ]
  },
  {
   "cell_type": "code",
   "execution_count": 55,
   "id": "9cc4f699-9eda-4015-b841-4d17cb7bfc5b",
   "metadata": {},
   "outputs": [
    {
     "name": "stdout",
     "output_type": "stream",
     "text": [
      "[[0.16143968 0.48969055 0.67089845 0.63373816 0.06784223 0.95379868\n",
      "  0.68167845 0.9532211  0.92116996 0.73588149 0.71052536 0.86180406\n",
      "  0.26804817 0.06536106 0.1839638  0.84875118 0.43630742 0.3381219\n",
      "  0.56498884 0.04913784]]\n"
     ]
    }
   ],
   "source": [
    "data = np.random.rand(1,20)\n",
    "print(data)"
   ]
  },
  {
   "cell_type": "code",
   "execution_count": 56,
   "id": "5e009235-b668-4627-88ce-2d726aeeb43f",
   "metadata": {},
   "outputs": [
    {
     "data": {
      "text/plain": [
       "1"
      ]
     },
     "execution_count": 56,
     "metadata": {},
     "output_type": "execute_result"
    }
   ],
   "source": [
    "len(data)"
   ]
  },
  {
   "cell_type": "markdown",
   "id": "8e7f6578-a81a-4468-ac56-253ea59f37b2",
   "metadata": {},
   "source": [
    "# np.random.randint():-\n",
    "Generates random integers from a given range\n"
   ]
  },
  {
   "cell_type": "code",
   "execution_count": 57,
   "id": "1d685b09-f4b4-43b7-89bb-a045fcfd2057",
   "metadata": {},
   "outputs": [
    {
     "name": "stdout",
     "output_type": "stream",
     "text": [
      "[ 9  3 10  1  9  0]\n"
     ]
    }
   ],
   "source": [
    "random_int = np.random.randint(0,11,6)\n",
    "print(random_int)"
   ]
  },
  {
   "cell_type": "markdown",
   "id": "eb49497e-514e-495f-b97d-fa7a6f9dee92",
   "metadata": {},
   "source": [
    "# np.random.randn():\n",
    "Generates random numbers from a standard normal distribution (mean 0, standard deviation 1)."
   ]
  },
  {
   "cell_type": "code",
   "execution_count": 58,
   "id": "24072737-2441-4e09-9cdb-4959f331c495",
   "metadata": {},
   "outputs": [
    {
     "name": "stdout",
     "output_type": "stream",
     "text": [
      "[-0.80840429  0.38074304 -0.02169995  1.83996045 -1.63082558  0.81990798\n",
      "  0.90714794 -1.80688357  0.25186156  1.0483116 ]\n"
     ]
    }
   ],
   "source": [
    "random_normal = np.random.randn(10)\n",
    "print(random_normal)"
   ]
  },
  {
   "cell_type": "markdown",
   "id": "e9084a0c-810f-40c8-ac82-d6c653317161",
   "metadata": {},
   "source": [
    "# ranf() :\n",
    "generates random floats in the half-open interval [0.0, 1.0)."
   ]
  },
  {
   "cell_type": "code",
   "execution_count": 59,
   "id": "dacf813c-8521-4240-bf99-36cc98ac5e20",
   "metadata": {},
   "outputs": [
    {
     "data": {
      "text/plain": [
       "array([9.71833564e-01, 8.14143238e-01, 3.49369416e-01, 3.67274980e-01,\n",
       "       1.55722848e-01, 8.57625390e-01, 7.27170640e-01, 4.85739641e-04,\n",
       "       7.27823878e-01, 9.62123378e-01])"
      ]
     },
     "execution_count": 59,
     "metadata": {},
     "output_type": "execute_result"
    }
   ],
   "source": [
    "\n",
    "random_f = np.random.ranf(10)\n",
    "random_f"
   ]
  },
  {
   "cell_type": "markdown",
   "id": "54e2a796-71eb-4493-a8ee-13b79bb2cfc5",
   "metadata": {},
   "source": [
    "# Seeding Random Geration\n",
    "- Sets the seed for the random number generator. This ensure that the same sdeqence of random number is generated each time the code is run with the same seed."
   ]
  },
  {
   "cell_type": "code",
   "execution_count": 66,
   "id": "2bc14b83-a309-4de2-a2a1-dde2e7975b33",
   "metadata": {},
   "outputs": [
    {
     "name": "stdout",
     "output_type": "stream",
     "text": [
      "[0.8488177  0.17889592 0.05436321 0.36153845 0.27540093]\n"
     ]
    }
   ],
   "source": [
    "ar = np.random.seed(15)\n",
    "ar1 = np.random.rand(5)\n",
    "print(ar1)"
   ]
  },
  {
   "cell_type": "markdown",
   "id": "3dc1cad7-eb56-4e94-a20a-d5b55e11abd9",
   "metadata": {},
   "source": [
    "# Random Sampling , shuffling and Permutation\n",
    "-np.random.choice() - Draws a given number of samples from the a given array or sequence with or without replacment i.e. SRSWR or SRSWOR"
   ]
  },
  {
   "cell_type": "code",
   "execution_count": 70,
   "id": "e3987c9c-8308-4f2f-ac90-d9ece0f777a8",
   "metadata": {},
   "outputs": [
    {
     "name": "stdout",
     "output_type": "stream",
     "text": [
      "[9 6 7 3 9]\n"
     ]
    }
   ],
   "source": [
    "# For With Replacement SRSWR\n",
    "df = np.array([1,2,3,4,5,6,7,8,9])\n",
    "sp = np.random.choice(df,5,replace =True)\n",
    "print(sp)"
   ]
  },
  {
   "cell_type": "code",
   "execution_count": 72,
   "id": "fd7fa048-33f5-45dd-883c-79e84f4be07a",
   "metadata": {},
   "outputs": [
    {
     "name": "stdout",
     "output_type": "stream",
     "text": [
      "[7 5 2 6 4]\n"
     ]
    }
   ],
   "source": [
    "# For without replacement SRSWOR\n",
    "sp1 = np.random.choice(df,5,replace = False)\n",
    "print(sp1)"
   ]
  },
  {
   "cell_type": "code",
   "execution_count": 76,
   "id": "456de3be-ad0c-4111-a939-3a3eeed444f8",
   "metadata": {},
   "outputs": [
    {
     "name": "stdout",
     "output_type": "stream",
     "text": [
      "[1 6 5 2 3 4]\n"
     ]
    }
   ],
   "source": [
    "# Shuffling\n",
    "# Shuffles the element of array\n",
    "\n",
    "ar = np.array([1,2,3,4,5,6])\n",
    "sample1 = np.random.shuffle(ar)\n",
    "print(ar)"
   ]
  },
  {
   "cell_type": "code",
   "execution_count": null,
   "id": "60b7f3d7-a605-4035-b0d8-0fb1897f6a40",
   "metadata": {},
   "outputs": [],
   "source": []
  },
  {
   "cell_type": "markdown",
   "id": "0e7ffdd8-289d-4ac5-b630-d51dba28e530",
   "metadata": {},
   "source": [
    "### Used in Vectorization"
   ]
  },
  {
   "cell_type": "code",
   "execution_count": 77,
   "id": "87e82958-00db-4b1e-9864-f1e0f02c8f8a",
   "metadata": {},
   "outputs": [],
   "source": [
    "#adding a scalar to an array\n",
    "s = 8\n",
    "r = ar + s"
   ]
  },
  {
   "cell_type": "code",
   "execution_count": 78,
   "id": "43fd4043-f660-4adf-97f0-fac657ba615a",
   "metadata": {},
   "outputs": [
    {
     "name": "stdout",
     "output_type": "stream",
     "text": [
      "[ 9 14 13 10 11 12]\n"
     ]
    }
   ],
   "source": [
    "print(r)"
   ]
  },
  {
   "cell_type": "code",
   "execution_count": null,
   "id": "516347f3-b710-43c5-87e8-076d3128d3eb",
   "metadata": {},
   "outputs": [],
   "source": []
  }
 ],
 "metadata": {
  "kernelspec": {
   "display_name": "Python 3 (ipykernel)",
   "language": "python",
   "name": "python3"
  },
  "language_info": {
   "codemirror_mode": {
    "name": "ipython",
    "version": 3
   },
   "file_extension": ".py",
   "mimetype": "text/x-python",
   "name": "python",
   "nbconvert_exporter": "python",
   "pygments_lexer": "ipython3",
   "version": "3.11.5"
  }
 },
 "nbformat": 4,
 "nbformat_minor": 5
}
