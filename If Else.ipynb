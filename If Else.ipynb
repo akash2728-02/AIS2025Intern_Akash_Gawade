{
 "cells": [
  {
   "cell_type": "markdown",
   "id": "ec254f18-48c3-4d3d-bcf0-a9aa6b01f34b",
   "metadata": {},
   "source": [
    "# If else\n",
    "    if else is condiation al satetment that allows user to set the a condition for iteartion.\n",
    "    This csontain two part of code 1 st one is 'if' and 2nd is 'else'.\n",
    "    If the first condition Is False then iteration forwarded two else condition.\n"
   ]
  },
  {
   "cell_type": "code",
   "execution_count": 5,
   "id": "12de297d-5a4f-4df0-a1f8-e03695ed9b23",
   "metadata": {},
   "outputs": [
    {
     "name": "stdin",
     "output_type": "stream",
     "text": [
      "Which element you want to search 2\n"
     ]
    },
    {
     "name": "stdout",
     "output_type": "stream",
     "text": [
      "Ohhh no, Your search is not here\n"
     ]
    }
   ],
   "source": [
    "l1 = ['akash','sgm','50','tea','CHD']\n",
    "l=str(input(\"Which element you want to search\"))\n",
    "if l in l1:\n",
    "  print(\"Yeah, You goted\")\n",
    "else:\n",
    "    print(\"Ohhh no, Your search is not here\")"
   ]
  },
  {
   "cell_type": "code",
   "execution_count": 6,
   "id": "2bf02cdf-42d0-4ea5-9747-6332b3ea953c",
   "metadata": {},
   "outputs": [
    {
     "name": "stdout",
     "output_type": "stream",
     "text": [
      "Pass\n"
     ]
    }
   ],
   "source": [
    "# we can also find Conditional statements like \n",
    "mark = 50\n",
    "if mark >=18:\n",
    "    print('Pass')\n",
    "else:\n",
    "    print('fail')"
   ]
  },
  {
   "cell_type": "code",
   "execution_count": 11,
   "id": "32d069b5-7f73-425d-866f-0cc5407a0a9b",
   "metadata": {},
   "outputs": [
    {
     "name": "stdin",
     "output_type": "stream",
     "text": [
      "Enter your Obtained Marks ( maximum 50) 18\n"
     ]
    },
    {
     "name": "stdout",
     "output_type": "stream",
     "text": [
      "Pass\n"
     ]
    }
   ],
   "source": [
    "# we can pt any vale by\n",
    "mark = int(input('Enter your Obtained Marks ( maximum 50)'))\n",
    "if mark >=18:\n",
    "    print('Pass')\n",
    "else:\n",
    "    print('fail')"
   ]
  },
  {
   "cell_type": "code",
   "execution_count": 15,
   "id": "5b8f5fa3-2b8b-4fe2-82e3-101ed0f629ed",
   "metadata": {},
   "outputs": [
    {
     "name": "stdin",
     "output_type": "stream",
     "text": [
      " 10\n"
     ]
    },
    {
     "name": "stdout",
     "output_type": "stream",
     "text": [
      "Even 10\n"
     ]
    }
   ],
   "source": [
    "# we also find given number is even or odd\n",
    "num = int(input())\n",
    "if num %2==0:\n",
    "    print('Even',num)\n",
    "else:\n",
    "    print('odd',num)"
   ]
  },
  {
   "cell_type": "code",
   "execution_count": null,
   "id": "8ad20af9-f231-48ba-addc-27f7b111a7ed",
   "metadata": {},
   "outputs": [],
   "source": []
  }
 ],
 "metadata": {
  "kernelspec": {
   "display_name": "Python 3 (ipykernel)",
   "language": "python",
   "name": "python3"
  },
  "language_info": {
   "codemirror_mode": {
    "name": "ipython",
    "version": 3
   },
   "file_extension": ".py",
   "mimetype": "text/x-python",
   "name": "python",
   "nbconvert_exporter": "python",
   "pygments_lexer": "ipython3",
   "version": "3.11.5"
  }
 },
 "nbformat": 4,
 "nbformat_minor": 5
}
