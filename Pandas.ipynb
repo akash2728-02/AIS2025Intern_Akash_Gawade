{
 "cells": [
  {
   "cell_type": "markdown",
   "id": "50d47015-abd3-4892-a2fd-140ab43d1d5a",
   "metadata": {},
   "source": [
    "# Pandas\n",
    "### Pandas is  the powerfull tool in the python . Pandas provide different data structures like series and dataframe. series is the 1D array and datafram is the 2D data table like Excel Spreadshit. We can spliit the data by indexing using integer , We can split the specific column of the data for special operations\n",
    "- Pandas done manipulation of data\n",
    "- Cleaning of data\n",
    "- Data analysis\n",
    "- We can explore the data\n",
    "## Data Structure:\n",
    "- series = 1D array = pandas.Series()\n",
    "- dataframe = 2D table =pandas.DataFrame()"
   ]
  },
  {
   "cell_type": "markdown",
   "id": "0edfefe2-8413-464a-8c9d-c8857a101b37",
   "metadata": {},
   "source": [
    "# Series\n",
    "- Pandas having 1D array say series like numpy having 1D array.\n",
    "- Series Stores all data type"
   ]
  },
  {
   "cell_type": "code",
   "execution_count": 1,
   "id": "ef59d14a-d622-4207-b343-e5a71cf00783",
   "metadata": {},
   "outputs": [
    {
     "data": {
      "text/plain": [
       "0    1\n",
       "1    2\n",
       "2    3\n",
       "3    4\n",
       "4    5\n",
       "5    6\n",
       "dtype: int64"
      ]
     },
     "execution_count": 1,
     "metadata": {},
     "output_type": "execute_result"
    }
   ],
   "source": [
    "# Firtly Import the pandas module\n",
    "import pandas as pd\n",
    "sr = pd.Series([1,2,3,4,5,6])\n",
    "sr"
   ]
  },
  {
   "cell_type": "markdown",
   "id": "5f05b3d1-6e75-4017-925c-639ab6231af2",
   "metadata": {},
   "source": [
    "# DataFrame\n",
    "- A two dimensional labled data strcuture like as table in excel worksheet.\n",
    "- It Consist column and Row\n",
    "- Conatins Different Data types"
   ]
  },
  {
   "cell_type": "code",
   "execution_count": 2,
   "id": "7465bea1-725c-4d1c-af65-8eb37b797322",
   "metadata": {},
   "outputs": [],
   "source": [
    "n = ['x','y','z']\n",
    "w = ['45','39','50']"
   ]
  },
  {
   "cell_type": "code",
   "execution_count": 3,
   "id": "8e9ffdb8-3247-47b2-b57c-771d8f64ab7b",
   "metadata": {},
   "outputs": [],
   "source": [
    "data = pd.DataFrame(list(zip(n , w)),\n",
    "                    index =[1,2,3],\n",
    "                    columns = ['Name','Weights'])\n"
   ]
  },
  {
   "cell_type": "code",
   "execution_count": 4,
   "id": "0a0bbf9d-b842-433c-bbc4-cbb5688338c3",
   "metadata": {},
   "outputs": [
    {
     "name": "stdout",
     "output_type": "stream",
     "text": [
      "  Name Weights\n",
      "1    x      45\n",
      "2    y      39\n",
      "3    z      50\n"
     ]
    }
   ],
   "source": [
    "print(data)"
   ]
  },
  {
   "cell_type": "markdown",
   "id": "7d77db52-913e-4f06-a652-16465849f698",
   "metadata": {},
   "source": [
    "### INdexing And Slicing\n",
    "- data['colun name']\n",
    "- data.iloc[],\n",
    "- data.loc[]"
   ]
  },
  {
   "cell_type": "code",
   "execution_count": 5,
   "id": "c348cbb7-d1b3-4f2a-bf02-5e79d09d3b50",
   "metadata": {},
   "outputs": [
    {
     "data": {
      "text/plain": [
       "x     5\n",
       "y    10\n",
       "z    15\n",
       "dtype: int64"
      ]
     },
     "execution_count": 5,
     "metadata": {},
     "output_type": "execute_result"
    }
   ],
   "source": [
    "# Creating a series\n",
    "ss = pd.Series([5,10,15],index=['x','y','z'])\n",
    "ss"
   ]
  },
  {
   "cell_type": "code",
   "execution_count": 6,
   "id": "50a69dad-5e61-4e8b-88e3-0ed5f62fb61c",
   "metadata": {},
   "outputs": [
    {
     "data": {
      "text/plain": [
       "5"
      ]
     },
     "execution_count": 6,
     "metadata": {},
     "output_type": "execute_result"
    }
   ],
   "source": [
    "#indexing\n",
    "ss['x']"
   ]
  },
  {
   "cell_type": "code",
   "execution_count": 7,
   "id": "a35c3509-c655-4eec-b7a4-9ae7640b45b4",
   "metadata": {},
   "outputs": [
    {
     "name": "stderr",
     "output_type": "stream",
     "text": [
      "C:\\Users\\akash\\AppData\\Local\\Temp\\ipykernel_9868\\1375059848.py:1: FutureWarning: Series.__getitem__ treating keys as positions is deprecated. In a future version, integer keys will always be treated as labels (consistent with DataFrame behavior). To access a value by position, use `ser.iloc[pos]`\n",
      "  ss[1]\n"
     ]
    },
    {
     "data": {
      "text/plain": [
       "10"
      ]
     },
     "execution_count": 7,
     "metadata": {},
     "output_type": "execute_result"
    }
   ],
   "source": [
    "ss[1]"
   ]
  },
  {
   "cell_type": "markdown",
   "id": "a16e0e34-09f3-4e8a-a12e-bc6f178a54dd",
   "metadata": {},
   "source": [
    "### Selecting a single column from the dataframe using data['col']\n",
    "\n",
    "\n",
    "print(data)\n",
    "ss[ss>5]"
   ]
  },
  {
   "cell_type": "code",
   "execution_count": 8,
   "id": "f663d9a0-846d-40e9-ab1c-0fe518d1a1f8",
   "metadata": {},
   "outputs": [],
   "source": [
    "h =data['Name']"
   ]
  },
  {
   "cell_type": "code",
   "execution_count": 9,
   "id": "2b017ac3-2534-4988-8341-c678ad9409cc",
   "metadata": {},
   "outputs": [
    {
     "data": {
      "text/plain": [
       "1    x\n",
       "2    y\n",
       "3    z\n",
       "Name: Name, dtype: object"
      ]
     },
     "execution_count": 9,
     "metadata": {},
     "output_type": "execute_result"
    }
   ],
   "source": [
    "h"
   ]
  },
  {
   "cell_type": "markdown",
   "id": "d07ccc4a-e451-40cf-8e2e-bb93d7e549b2",
   "metadata": {},
   "source": [
    "### for selecting entire raw we using .iloc[] \n",
    "### select roes and columnd by integer position"
   ]
  },
  {
   "cell_type": "code",
   "execution_count": 10,
   "id": "4c50187e-267b-458c-a999-27529baae165",
   "metadata": {},
   "outputs": [
    {
     "name": "stdout",
     "output_type": "stream",
     "text": [
      "Name        x\n",
      "Weights    45\n",
      "Name: 1, dtype: object\n",
      "Name        z\n",
      "Weights    50\n",
      "Name: 3, dtype: object\n"
     ]
    }
   ],
   "source": [
    "print(data.iloc[0])\n",
    "print(data.iloc[2])"
   ]
  },
  {
   "cell_type": "markdown",
   "id": "fbc16b11-bd26-45d8-b424-028e6b1bbda9",
   "metadata": {},
   "source": [
    "### data.loc[]\n",
    "- Select row and columns by leads or a boolean array"
   ]
  },
  {
   "cell_type": "code",
   "execution_count": 11,
   "id": "31e009c6-4213-42b6-9280-601cfa5e6675",
   "metadata": {},
   "outputs": [],
   "source": [
    "k ={'Min':[100,200,300],'Max':[400,500,600]}\n",
    "df= pd.DataFrame(k)"
   ]
  },
  {
   "cell_type": "code",
   "execution_count": 12,
   "id": "1d4fe73b-f33c-46de-902e-e52e477ef72d",
   "metadata": {},
   "outputs": [
    {
     "data": {
      "text/html": [
       "<div>\n",
       "<style scoped>\n",
       "    .dataframe tbody tr th:only-of-type {\n",
       "        vertical-align: middle;\n",
       "    }\n",
       "\n",
       "    .dataframe tbody tr th {\n",
       "        vertical-align: top;\n",
       "    }\n",
       "\n",
       "    .dataframe thead th {\n",
       "        text-align: right;\n",
       "    }\n",
       "</style>\n",
       "<table border=\"1\" class=\"dataframe\">\n",
       "  <thead>\n",
       "    <tr style=\"text-align: right;\">\n",
       "      <th></th>\n",
       "      <th>Min</th>\n",
       "      <th>Max</th>\n",
       "    </tr>\n",
       "  </thead>\n",
       "  <tbody>\n",
       "    <tr>\n",
       "      <th>0</th>\n",
       "      <td>100</td>\n",
       "      <td>400</td>\n",
       "    </tr>\n",
       "    <tr>\n",
       "      <th>1</th>\n",
       "      <td>200</td>\n",
       "      <td>500</td>\n",
       "    </tr>\n",
       "    <tr>\n",
       "      <th>2</th>\n",
       "      <td>300</td>\n",
       "      <td>600</td>\n",
       "    </tr>\n",
       "  </tbody>\n",
       "</table>\n",
       "</div>"
      ],
      "text/plain": [
       "   Min  Max\n",
       "0  100  400\n",
       "1  200  500\n",
       "2  300  600"
      ]
     },
     "execution_count": 12,
     "metadata": {},
     "output_type": "execute_result"
    }
   ],
   "source": [
    "df"
   ]
  },
  {
   "cell_type": "code",
   "execution_count": 13,
   "id": "8e9e1aa0-9e72-4dbd-80ff-21a6945b0dc1",
   "metadata": {},
   "outputs": [
    {
     "data": {
      "text/plain": [
       "Min    100\n",
       "Max    400\n",
       "Name: 0, dtype: int64"
      ]
     },
     "execution_count": 13,
     "metadata": {},
     "output_type": "execute_result"
    }
   ],
   "source": [
    "df.loc[0]"
   ]
  },
  {
   "cell_type": "code",
   "execution_count": 14,
   "id": "5cdf14c1-2ab2-4857-add1-314f9713d182",
   "metadata": {},
   "outputs": [
    {
     "data": {
      "text/html": [
       "<div>\n",
       "<style scoped>\n",
       "    .dataframe tbody tr th:only-of-type {\n",
       "        vertical-align: middle;\n",
       "    }\n",
       "\n",
       "    .dataframe tbody tr th {\n",
       "        vertical-align: top;\n",
       "    }\n",
       "\n",
       "    .dataframe thead th {\n",
       "        text-align: right;\n",
       "    }\n",
       "</style>\n",
       "<table border=\"1\" class=\"dataframe\">\n",
       "  <thead>\n",
       "    <tr style=\"text-align: right;\">\n",
       "      <th></th>\n",
       "      <th>Name</th>\n",
       "      <th>Weights</th>\n",
       "    </tr>\n",
       "  </thead>\n",
       "  <tbody>\n",
       "    <tr>\n",
       "      <th>1</th>\n",
       "      <td>x</td>\n",
       "      <td>45</td>\n",
       "    </tr>\n",
       "    <tr>\n",
       "      <th>2</th>\n",
       "      <td>y</td>\n",
       "      <td>39</td>\n",
       "    </tr>\n",
       "    <tr>\n",
       "      <th>3</th>\n",
       "      <td>z</td>\n",
       "      <td>50</td>\n",
       "    </tr>\n",
       "  </tbody>\n",
       "</table>\n",
       "</div>"
      ],
      "text/plain": [
       "  Name Weights\n",
       "1    x      45\n",
       "2    y      39\n",
       "3    z      50"
      ]
     },
     "execution_count": 14,
     "metadata": {},
     "output_type": "execute_result"
    }
   ],
   "source": [
    "data"
   ]
  },
  {
   "cell_type": "code",
   "execution_count": 15,
   "id": "d9bb9f8c-b1c6-4244-9486-23fd6a801701",
   "metadata": {},
   "outputs": [
    {
     "data": {
      "text/plain": [
       "Name        x\n",
       "Weights    45\n",
       "Name: 1, dtype: object"
      ]
     },
     "execution_count": 15,
     "metadata": {},
     "output_type": "execute_result"
    }
   ],
   "source": [
    "data.loc[1]"
   ]
  },
  {
   "cell_type": "markdown",
   "id": "6f141257-40cf-45ab-8855-ce3eaea8569a",
   "metadata": {},
   "source": [
    "# Data Preprocessing\n",
    "- ### Data preprocessing contain\n",
    "      - checking null values\n",
    "      - finding outlier\n",
    "      - Filling the missing values\n",
    "      - Droping the missing value\n",
    "- ### Renaming Column Name\n",
    "- Filtering\n",
    "- Aggregation\n",
    "- Grouping\n"
   ]
  },
  {
   "cell_type": "code",
   "execution_count": 16,
   "id": "5b7b52c0-5c73-401c-b766-c8b44a1f352c",
   "metadata": {},
   "outputs": [
    {
     "data": {
      "text/html": [
       "<div>\n",
       "<style scoped>\n",
       "    .dataframe tbody tr th:only-of-type {\n",
       "        vertical-align: middle;\n",
       "    }\n",
       "\n",
       "    .dataframe tbody tr th {\n",
       "        vertical-align: top;\n",
       "    }\n",
       "\n",
       "    .dataframe thead th {\n",
       "        text-align: right;\n",
       "    }\n",
       "</style>\n",
       "<table border=\"1\" class=\"dataframe\">\n",
       "  <thead>\n",
       "    <tr style=\"text-align: right;\">\n",
       "      <th></th>\n",
       "      <th>Name</th>\n",
       "      <th>Weights</th>\n",
       "    </tr>\n",
       "  </thead>\n",
       "  <tbody>\n",
       "    <tr>\n",
       "      <th>1</th>\n",
       "      <td>False</td>\n",
       "      <td>False</td>\n",
       "    </tr>\n",
       "    <tr>\n",
       "      <th>2</th>\n",
       "      <td>False</td>\n",
       "      <td>False</td>\n",
       "    </tr>\n",
       "    <tr>\n",
       "      <th>3</th>\n",
       "      <td>False</td>\n",
       "      <td>False</td>\n",
       "    </tr>\n",
       "  </tbody>\n",
       "</table>\n",
       "</div>"
      ],
      "text/plain": [
       "    Name  Weights\n",
       "1  False    False\n",
       "2  False    False\n",
       "3  False    False"
      ]
     },
     "execution_count": 16,
     "metadata": {},
     "output_type": "execute_result"
    }
   ],
   "source": [
    "# Checkig null values in the data\n",
    "data.isnull()"
   ]
  },
  {
   "cell_type": "code",
   "execution_count": 17,
   "id": "c54ce2b7-f902-46be-af76-63f10e293288",
   "metadata": {},
   "outputs": [
    {
     "data": {
      "text/html": [
       "<div>\n",
       "<style scoped>\n",
       "    .dataframe tbody tr th:only-of-type {\n",
       "        vertical-align: middle;\n",
       "    }\n",
       "\n",
       "    .dataframe tbody tr th {\n",
       "        vertical-align: top;\n",
       "    }\n",
       "\n",
       "    .dataframe thead th {\n",
       "        text-align: right;\n",
       "    }\n",
       "</style>\n",
       "<table border=\"1\" class=\"dataframe\">\n",
       "  <thead>\n",
       "    <tr style=\"text-align: right;\">\n",
       "      <th></th>\n",
       "      <th>Min</th>\n",
       "      <th>Max</th>\n",
       "    </tr>\n",
       "  </thead>\n",
       "  <tbody>\n",
       "    <tr>\n",
       "      <th>0</th>\n",
       "      <td>100</td>\n",
       "      <td>400</td>\n",
       "    </tr>\n",
       "    <tr>\n",
       "      <th>1</th>\n",
       "      <td>200</td>\n",
       "      <td>500</td>\n",
       "    </tr>\n",
       "    <tr>\n",
       "      <th>2</th>\n",
       "      <td>300</td>\n",
       "      <td>600</td>\n",
       "    </tr>\n",
       "  </tbody>\n",
       "</table>\n",
       "</div>"
      ],
      "text/plain": [
       "   Min  Max\n",
       "0  100  400\n",
       "1  200  500\n",
       "2  300  600"
      ]
     },
     "execution_count": 17,
     "metadata": {},
     "output_type": "execute_result"
    }
   ],
   "source": [
    "# Droping mising value\n",
    "df_1 = df.dropna()\n",
    "df_1"
   ]
  },
  {
   "cell_type": "code",
   "execution_count": 18,
   "id": "e37e4730-5d16-4b5b-bf85-af02ce272e27",
   "metadata": {},
   "outputs": [
    {
     "data": {
      "text/html": [
       "<div>\n",
       "<style scoped>\n",
       "    .dataframe tbody tr th:only-of-type {\n",
       "        vertical-align: middle;\n",
       "    }\n",
       "\n",
       "    .dataframe tbody tr th {\n",
       "        vertical-align: top;\n",
       "    }\n",
       "\n",
       "    .dataframe thead th {\n",
       "        text-align: right;\n",
       "    }\n",
       "</style>\n",
       "<table border=\"1\" class=\"dataframe\">\n",
       "  <thead>\n",
       "    <tr style=\"text-align: right;\">\n",
       "      <th></th>\n",
       "      <th>Min</th>\n",
       "      <th>Max</th>\n",
       "    </tr>\n",
       "  </thead>\n",
       "  <tbody>\n",
       "    <tr>\n",
       "      <th>0</th>\n",
       "      <td>100</td>\n",
       "      <td>400</td>\n",
       "    </tr>\n",
       "    <tr>\n",
       "      <th>1</th>\n",
       "      <td>200</td>\n",
       "      <td>500</td>\n",
       "    </tr>\n",
       "    <tr>\n",
       "      <th>2</th>\n",
       "      <td>300</td>\n",
       "      <td>600</td>\n",
       "    </tr>\n",
       "  </tbody>\n",
       "</table>\n",
       "</div>"
      ],
      "text/plain": [
       "   Min  Max\n",
       "0  100  400\n",
       "1  200  500\n",
       "2  300  600"
      ]
     },
     "execution_count": 18,
     "metadata": {},
     "output_type": "execute_result"
    }
   ],
   "source": [
    "# Filling the missing value\n",
    "# If our data conatins missing value then we can fill it \n",
    "hh=df.fillna(0)\n",
    "hh"
   ]
  },
  {
   "cell_type": "markdown",
   "id": "361100d0-7e2d-444a-a2ab-b441da72ca7c",
   "metadata": {},
   "source": [
    "## Renaming Columns names"
   ]
  },
  {
   "cell_type": "code",
   "execution_count": 19,
   "id": "1f1ca95a-3e1d-48f2-b6f7-3c422b5d8a51",
   "metadata": {},
   "outputs": [],
   "source": [
    "\n",
    "df.rename(columns={'Min':'Minimum','Max':'Maximum'},inplace=True) # inplace for permently"
   ]
  },
  {
   "cell_type": "code",
   "execution_count": 20,
   "id": "3ad5bf93-dc2d-4727-b517-6ca26a93142f",
   "metadata": {},
   "outputs": [
    {
     "data": {
      "text/html": [
       "<div>\n",
       "<style scoped>\n",
       "    .dataframe tbody tr th:only-of-type {\n",
       "        vertical-align: middle;\n",
       "    }\n",
       "\n",
       "    .dataframe tbody tr th {\n",
       "        vertical-align: top;\n",
       "    }\n",
       "\n",
       "    .dataframe thead th {\n",
       "        text-align: right;\n",
       "    }\n",
       "</style>\n",
       "<table border=\"1\" class=\"dataframe\">\n",
       "  <thead>\n",
       "    <tr style=\"text-align: right;\">\n",
       "      <th></th>\n",
       "      <th>Minimum</th>\n",
       "      <th>Maximum</th>\n",
       "    </tr>\n",
       "  </thead>\n",
       "  <tbody>\n",
       "    <tr>\n",
       "      <th>0</th>\n",
       "      <td>100</td>\n",
       "      <td>400</td>\n",
       "    </tr>\n",
       "    <tr>\n",
       "      <th>1</th>\n",
       "      <td>200</td>\n",
       "      <td>500</td>\n",
       "    </tr>\n",
       "    <tr>\n",
       "      <th>2</th>\n",
       "      <td>300</td>\n",
       "      <td>600</td>\n",
       "    </tr>\n",
       "  </tbody>\n",
       "</table>\n",
       "</div>"
      ],
      "text/plain": [
       "   Minimum  Maximum\n",
       "0      100      400\n",
       "1      200      500\n",
       "2      300      600"
      ]
     },
     "execution_count": 20,
     "metadata": {},
     "output_type": "execute_result"
    }
   ],
   "source": [
    "df"
   ]
  },
  {
   "cell_type": "markdown",
   "id": "d5ca30ca",
   "metadata": {},
   "source": [
    "# Filtering\n",
    "    filtering rows on required condition"
   ]
  },
  {
   "cell_type": "code",
   "execution_count": 21,
   "id": "fe264bb7",
   "metadata": {},
   "outputs": [],
   "source": [
    "filter_data  = df[df['Maximum']>400].mean()"
   ]
  },
  {
   "cell_type": "code",
   "execution_count": 22,
   "id": "9fe37b77",
   "metadata": {},
   "outputs": [
    {
     "name": "stdout",
     "output_type": "stream",
     "text": [
      "Minimum    250.0\n",
      "Maximum    550.0\n",
      "dtype: float64\n"
     ]
    }
   ],
   "source": [
    "print(filter_data)"
   ]
  },
  {
   "cell_type": "markdown",
   "id": "e5955b49",
   "metadata": {},
   "source": []
  },
  {
   "cell_type": "markdown",
   "id": "ba0d5bab",
   "metadata": {},
   "source": [
    "# aggregation and Grouping\n",
    "## GroupBY\n",
    "- Grouping data by a column\n",
    "## Aggreagation\n",
    "- Sum : .sum()\n",
    "- Mean : .mean()\n",
    "- Count: .count()"
   ]
  },
  {
   "cell_type": "code",
   "execution_count": 23,
   "id": "6fe12552",
   "metadata": {},
   "outputs": [],
   "source": [
    "# creating a dataset for below transactions\n",
    "d = {\n",
    "    'Name':['Akash','Vijay','Raj','kavita','namdev'],\n",
    "    'City':['KOlhapur','mumbai','pune','KOlhapur','mumbai'],\n",
    "    'Age':[25,45,35,29,27]\n",
    "}\n",
    "\n",
    "\n",
    "df =pd.DataFrame(d)"
   ]
  },
  {
   "cell_type": "code",
   "execution_count": 24,
   "id": "d6c009d3",
   "metadata": {},
   "outputs": [
    {
     "name": "stdout",
     "output_type": "stream",
     "text": [
      "\n",
      " DataFrame\n",
      "     Name      City  Age\n",
      "0   Akash  KOlhapur   25\n",
      "1   Vijay    mumbai   45\n",
      "2     Raj      pune   35\n",
      "3  kavita  KOlhapur   29\n",
      "4  namdev    mumbai   27\n"
     ]
    }
   ],
   "source": [
    "print(\"\\n DataFrame\")\n",
    "print(df)"
   ]
  },
  {
   "cell_type": "code",
   "execution_count": 25,
   "id": "1a627698",
   "metadata": {},
   "outputs": [],
   "source": [
    "gr__city = df.groupby('City')['Age'].mean()"
   ]
  },
  {
   "cell_type": "code",
   "execution_count": 26,
   "id": "c0c2eead",
   "metadata": {},
   "outputs": [
    {
     "data": {
      "text/plain": [
       "City\n",
       "KOlhapur    27.0\n",
       "mumbai      36.0\n",
       "pune        35.0\n",
       "Name: Age, dtype: float64"
      ]
     },
     "execution_count": 26,
     "metadata": {},
     "output_type": "execute_result"
    }
   ],
   "source": [
    "\n",
    "gr__city"
   ]
  },
  {
   "cell_type": "code",
   "execution_count": 27,
   "id": "18ae70ad",
   "metadata": {},
   "outputs": [
    {
     "name": "stdout",
     "output_type": "stream",
     "text": [
      "161\n"
     ]
    }
   ],
   "source": [
    "#Sum\n",
    "print(df['Age'].sum())"
   ]
  },
  {
   "cell_type": "code",
   "execution_count": 28,
   "id": "76fd677d-665b-4c1e-a26d-c7dcfd3cc6bf",
   "metadata": {},
   "outputs": [
    {
     "name": "stdout",
     "output_type": "stream",
     "text": [
      "5\n",
      "5\n"
     ]
    }
   ],
   "source": [
    "# count\n",
    "print(df['Name'].count())\n",
    "print(df['City'].count())"
   ]
  },
  {
   "cell_type": "markdown",
   "id": "34b65815-e2c5-4c64-8c6b-5f3679565ac8",
   "metadata": {},
   "source": [
    "# Merging and Joining\n",
    "## Merge\n",
    "- we can combine two dataframe in once , by using the command pd.merge\n",
    "## Joining .concate()\n",
    "- we can join two dataframe"
   ]
  },
  {
   "cell_type": "code",
   "execution_count": 29,
   "id": "45855d39-5e84-4c4f-9256-c5aa17fa3558",
   "metadata": {},
   "outputs": [
    {
     "name": "stdout",
     "output_type": "stream",
     "text": [
      "     Name      City  Age\n",
      "0   Akash  KOlhapur   25\n",
      "1   Vijay    mumbai   45\n",
      "2     Raj      pune   35\n",
      "3  kavita  KOlhapur   29\n",
      "4  namdev    mumbai   27\n"
     ]
    }
   ],
   "source": [
    "print(df)"
   ]
  },
  {
   "cell_type": "code",
   "execution_count": 30,
   "id": "22d5c4bb-ca6f-4e9e-ba95-ad40d7d3e0ea",
   "metadata": {},
   "outputs": [],
   "source": [
    "# Merging \n",
    "df2 = pd.DataFrame({\n",
    "    'Name':['Akash','Raj','Jaydip','Pravin'],\n",
    "    'Age': [28,29,24,23]\n",
    "})"
   ]
  },
  {
   "cell_type": "code",
   "execution_count": 31,
   "id": "2fc02894-34e7-4072-8e07-83f570f61326",
   "metadata": {},
   "outputs": [
    {
     "data": {
      "text/html": [
       "<div>\n",
       "<style scoped>\n",
       "    .dataframe tbody tr th:only-of-type {\n",
       "        vertical-align: middle;\n",
       "    }\n",
       "\n",
       "    .dataframe tbody tr th {\n",
       "        vertical-align: top;\n",
       "    }\n",
       "\n",
       "    .dataframe thead th {\n",
       "        text-align: right;\n",
       "    }\n",
       "</style>\n",
       "<table border=\"1\" class=\"dataframe\">\n",
       "  <thead>\n",
       "    <tr style=\"text-align: right;\">\n",
       "      <th></th>\n",
       "      <th>Name</th>\n",
       "      <th>Age</th>\n",
       "    </tr>\n",
       "  </thead>\n",
       "  <tbody>\n",
       "    <tr>\n",
       "      <th>0</th>\n",
       "      <td>Akash</td>\n",
       "      <td>28</td>\n",
       "    </tr>\n",
       "    <tr>\n",
       "      <th>1</th>\n",
       "      <td>Raj</td>\n",
       "      <td>29</td>\n",
       "    </tr>\n",
       "    <tr>\n",
       "      <th>2</th>\n",
       "      <td>Jaydip</td>\n",
       "      <td>24</td>\n",
       "    </tr>\n",
       "    <tr>\n",
       "      <th>3</th>\n",
       "      <td>Pravin</td>\n",
       "      <td>23</td>\n",
       "    </tr>\n",
       "  </tbody>\n",
       "</table>\n",
       "</div>"
      ],
      "text/plain": [
       "     Name  Age\n",
       "0   Akash   28\n",
       "1     Raj   29\n",
       "2  Jaydip   24\n",
       "3  Pravin   23"
      ]
     },
     "execution_count": 31,
     "metadata": {},
     "output_type": "execute_result"
    }
   ],
   "source": [
    "df2\n"
   ]
  },
  {
   "cell_type": "code",
   "execution_count": 32,
   "id": "d7eb9e7b-4eb4-44da-a5bb-30fc620f0865",
   "metadata": {},
   "outputs": [],
   "source": [
    "dd = pd.merge(df,df2,on='Name',how='inner')"
   ]
  },
  {
   "cell_type": "code",
   "execution_count": 33,
   "id": "3d4747b1-603d-4af7-b431-0217a012eefa",
   "metadata": {},
   "outputs": [
    {
     "data": {
      "text/html": [
       "<div>\n",
       "<style scoped>\n",
       "    .dataframe tbody tr th:only-of-type {\n",
       "        vertical-align: middle;\n",
       "    }\n",
       "\n",
       "    .dataframe tbody tr th {\n",
       "        vertical-align: top;\n",
       "    }\n",
       "\n",
       "    .dataframe thead th {\n",
       "        text-align: right;\n",
       "    }\n",
       "</style>\n",
       "<table border=\"1\" class=\"dataframe\">\n",
       "  <thead>\n",
       "    <tr style=\"text-align: right;\">\n",
       "      <th></th>\n",
       "      <th>Name</th>\n",
       "      <th>City</th>\n",
       "      <th>Age_x</th>\n",
       "      <th>Age_y</th>\n",
       "    </tr>\n",
       "  </thead>\n",
       "  <tbody>\n",
       "    <tr>\n",
       "      <th>0</th>\n",
       "      <td>Akash</td>\n",
       "      <td>KOlhapur</td>\n",
       "      <td>25</td>\n",
       "      <td>28</td>\n",
       "    </tr>\n",
       "    <tr>\n",
       "      <th>1</th>\n",
       "      <td>Raj</td>\n",
       "      <td>pune</td>\n",
       "      <td>35</td>\n",
       "      <td>29</td>\n",
       "    </tr>\n",
       "  </tbody>\n",
       "</table>\n",
       "</div>"
      ],
      "text/plain": [
       "    Name      City  Age_x  Age_y\n",
       "0  Akash  KOlhapur     25     28\n",
       "1    Raj      pune     35     29"
      ]
     },
     "execution_count": 33,
     "metadata": {},
     "output_type": "execute_result"
    }
   ],
   "source": [
    "dd  # merged data"
   ]
  },
  {
   "cell_type": "markdown",
   "id": "d02de320-08f4-4edd-8dc8-833325ddb682",
   "metadata": {},
   "source": [
    "\n",
    "# File I/O:\n",
    "- pd.read_csv(), df.to_csv(), pd.read_excel(), df.to_excel()\n",
    "### Reading the data\n",
    "- pd.read_csv()\n",
    "- pd.read_excel()\n",
    "### writing\n",
    "- df.to_csv()\n",
    "- df.to_excel"
   ]
  },
  {
   "cell_type": "code",
   "execution_count": 34,
   "id": "60539ff4-202e-4482-ae4b-569352f520d1",
   "metadata": {},
   "outputs": [
    {
     "data": {
      "text/html": [
       "<div>\n",
       "<style scoped>\n",
       "    .dataframe tbody tr th:only-of-type {\n",
       "        vertical-align: middle;\n",
       "    }\n",
       "\n",
       "    .dataframe tbody tr th {\n",
       "        vertical-align: top;\n",
       "    }\n",
       "\n",
       "    .dataframe thead th {\n",
       "        text-align: right;\n",
       "    }\n",
       "</style>\n",
       "<table border=\"1\" class=\"dataframe\">\n",
       "  <thead>\n",
       "    <tr style=\"text-align: right;\">\n",
       "      <th></th>\n",
       "      <th>Name</th>\n",
       "      <th>City</th>\n",
       "      <th>Age</th>\n",
       "    </tr>\n",
       "  </thead>\n",
       "  <tbody>\n",
       "    <tr>\n",
       "      <th>0</th>\n",
       "      <td>Akash</td>\n",
       "      <td>KOlhapur</td>\n",
       "      <td>25</td>\n",
       "    </tr>\n",
       "    <tr>\n",
       "      <th>1</th>\n",
       "      <td>Vijay</td>\n",
       "      <td>mumbai</td>\n",
       "      <td>45</td>\n",
       "    </tr>\n",
       "    <tr>\n",
       "      <th>2</th>\n",
       "      <td>Raj</td>\n",
       "      <td>pune</td>\n",
       "      <td>35</td>\n",
       "    </tr>\n",
       "    <tr>\n",
       "      <th>3</th>\n",
       "      <td>kavita</td>\n",
       "      <td>KOlhapur</td>\n",
       "      <td>29</td>\n",
       "    </tr>\n",
       "    <tr>\n",
       "      <th>4</th>\n",
       "      <td>namdev</td>\n",
       "      <td>mumbai</td>\n",
       "      <td>27</td>\n",
       "    </tr>\n",
       "  </tbody>\n",
       "</table>\n",
       "</div>"
      ],
      "text/plain": [
       "     Name      City  Age\n",
       "0   Akash  KOlhapur   25\n",
       "1   Vijay    mumbai   45\n",
       "2     Raj      pune   35\n",
       "3  kavita  KOlhapur   29\n",
       "4  namdev    mumbai   27"
      ]
     },
     "execution_count": 34,
     "metadata": {},
     "output_type": "execute_result"
    }
   ],
   "source": [
    "df"
   ]
  },
  {
   "cell_type": "code",
   "execution_count": 35,
   "id": "07311c40-d3f1-4fc1-be1a-dc07cae6282d",
   "metadata": {},
   "outputs": [],
   "source": [
    "df.to_csv('df_csv.csv',index=False)\n"
   ]
  },
  {
   "cell_type": "code",
   "execution_count": 36,
   "id": "5e53f7ec-2a57-4b07-b1a8-7b03d1d3301e",
   "metadata": {},
   "outputs": [],
   "source": [
    "# Reading Csv\n",
    "data1 = pd.read_csv('df_csv.csv')"
   ]
  },
  {
   "cell_type": "code",
   "execution_count": 37,
   "id": "be10e5b1-535d-49fd-82ed-d2bedbc29d3a",
   "metadata": {},
   "outputs": [
    {
     "name": "stdout",
     "output_type": "stream",
     "text": [
      "     Name      City  Age\n",
      "0   Akash  KOlhapur   25\n",
      "1   Vijay    mumbai   45\n",
      "2     Raj      pune   35\n",
      "3  kavita  KOlhapur   29\n",
      "4  namdev    mumbai   27\n"
     ]
    }
   ],
   "source": [
    "print(data1)"
   ]
  },
  {
   "cell_type": "code",
   "execution_count": 38,
   "id": "8d5ffd80-3904-4aac-b674-31d4e652b804",
   "metadata": {},
   "outputs": [],
   "source": [
    "# Excel Write\n",
    "df.to_excel('df_excel.xlsx',index=False)"
   ]
  },
  {
   "cell_type": "code",
   "execution_count": 39,
   "id": "35a5caef-97c5-4104-812d-378473b6cafa",
   "metadata": {},
   "outputs": [],
   "source": [
    "data2 = pd.read_excel('df_excel.xlsx')"
   ]
  },
  {
   "cell_type": "code",
   "execution_count": 41,
   "id": "c611940d-d893-4c7e-aab1-3cab0964ef88",
   "metadata": {},
   "outputs": [
    {
     "data": {
      "text/html": [
       "<div>\n",
       "<style scoped>\n",
       "    .dataframe tbody tr th:only-of-type {\n",
       "        vertical-align: middle;\n",
       "    }\n",
       "\n",
       "    .dataframe tbody tr th {\n",
       "        vertical-align: top;\n",
       "    }\n",
       "\n",
       "    .dataframe thead th {\n",
       "        text-align: right;\n",
       "    }\n",
       "</style>\n",
       "<table border=\"1\" class=\"dataframe\">\n",
       "  <thead>\n",
       "    <tr style=\"text-align: right;\">\n",
       "      <th></th>\n",
       "      <th>Name</th>\n",
       "      <th>City</th>\n",
       "      <th>Age</th>\n",
       "    </tr>\n",
       "  </thead>\n",
       "  <tbody>\n",
       "    <tr>\n",
       "      <th>0</th>\n",
       "      <td>Akash</td>\n",
       "      <td>KOlhapur</td>\n",
       "      <td>25</td>\n",
       "    </tr>\n",
       "    <tr>\n",
       "      <th>1</th>\n",
       "      <td>Vijay</td>\n",
       "      <td>mumbai</td>\n",
       "      <td>45</td>\n",
       "    </tr>\n",
       "    <tr>\n",
       "      <th>2</th>\n",
       "      <td>Raj</td>\n",
       "      <td>pune</td>\n",
       "      <td>35</td>\n",
       "    </tr>\n",
       "    <tr>\n",
       "      <th>3</th>\n",
       "      <td>kavita</td>\n",
       "      <td>KOlhapur</td>\n",
       "      <td>29</td>\n",
       "    </tr>\n",
       "    <tr>\n",
       "      <th>4</th>\n",
       "      <td>namdev</td>\n",
       "      <td>mumbai</td>\n",
       "      <td>27</td>\n",
       "    </tr>\n",
       "  </tbody>\n",
       "</table>\n",
       "</div>"
      ],
      "text/plain": [
       "     Name      City  Age\n",
       "0   Akash  KOlhapur   25\n",
       "1   Vijay    mumbai   45\n",
       "2     Raj      pune   35\n",
       "3  kavita  KOlhapur   29\n",
       "4  namdev    mumbai   27"
      ]
     },
     "execution_count": 41,
     "metadata": {},
     "output_type": "execute_result"
    }
   ],
   "source": [
    "data2"
   ]
  },
  {
   "cell_type": "markdown",
   "id": "332103d5-d40b-422d-9a31-d46ad0494da1",
   "metadata": {},
   "source": [
    "# "
   ]
  }
 ],
 "metadata": {
  "kernelspec": {
   "display_name": "base",
   "language": "python",
   "name": "python3"
  },
  "language_info": {
   "codemirror_mode": {
    "name": "ipython",
    "version": 3
   },
   "file_extension": ".py",
   "mimetype": "text/x-python",
   "name": "python",
   "nbconvert_exporter": "python",
   "pygments_lexer": "ipython3",
   "version": "3.11.5"
  }
 },
 "nbformat": 4,
 "nbformat_minor": 5
}
