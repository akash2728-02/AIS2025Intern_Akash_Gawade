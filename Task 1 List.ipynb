{
 "cells": [
  {
   "cell_type": "markdown",
   "id": "186b9d4b-7a89-4780-abc6-61ef1738f726",
   "metadata": {},
   "source": [
    "# List in Python\n",
    " A list in python is mutabale datatype  that store multiple item in a single varible contain objects, numbers , floats..\n",
    " list is itearbale and created by square brackets"
   ]
  },
  {
   "cell_type": "code",
   "execution_count": 1,
   "id": "dfc0a020-cff6-4299-a629-936adbc3a51b",
   "metadata": {},
   "outputs": [],
   "source": [
    "list1 = ['goal','school','Pune',10,1.2]"
   ]
  },
  {
   "cell_type": "code",
   "execution_count": 2,
   "id": "5cd969fa-10e6-464e-bae4-093c48329d3e",
   "metadata": {},
   "outputs": [
    {
     "data": {
      "text/plain": [
       "['goal', 'school', 'Pune', 10, 1.2]"
      ]
     },
     "execution_count": 2,
     "metadata": {},
     "output_type": "execute_result"
    }
   ],
   "source": [
    "list1"
   ]
  },
  {
   "cell_type": "markdown",
   "id": "18ac8c38-7080-4d4f-807a-db5c3f1425e0",
   "metadata": {},
   "source": [
    "# Charecteristic\n",
    "    1*List items are ordered , 2* mutable and possible  to add duplicate values\n",
    "    List are Indexed , the first element has index numbber [0] and the 2nd element has index [1].\n",
    "    1* The list is oredered its mean that the item we have a defined order, and that will not change. If you add new item in the list , this will be placed at the last.\n",
    "    2* List is mutable , means that we can remove the elememnt and add the element anytime after it  has been created.\n",
    "    3* Since list are Indexed , then list can have elements with same value"
   ]
  },
  {
   "cell_type": "code",
   "execution_count": 3,
   "id": "15094e2b-997a-477d-b4e2-0f10feaa10eb",
   "metadata": {},
   "outputs": [
    {
     "name": "stdout",
     "output_type": "stream",
     "text": [
      "['bala', 'vijay', 'ram', 'krishna', 'ram', 12, 2.3]\n"
     ]
    }
   ],
   "source": [
    "l = ['bala','vijay','ram','krishna','ram',12,2.3]\n",
    "print(l)"
   ]
  },
  {
   "cell_type": "code",
   "execution_count": 4,
   "id": "f82042be-5405-439c-834b-f22ddb5ed58b",
   "metadata": {},
   "outputs": [
    {
     "data": {
      "text/plain": [
       "7"
      ]
     },
     "execution_count": 4,
     "metadata": {},
     "output_type": "execute_result"
    }
   ],
   "source": [
    "# we can check the length of the list\n",
    "len(l)"
   ]
  },
  {
   "cell_type": "code",
   "execution_count": 5,
   "id": "80e1df84-c005-42e9-9291-626afddd2eae",
   "metadata": {},
   "outputs": [
    {
     "data": {
      "text/plain": [
       "'bala'"
      ]
     },
     "execution_count": 5,
     "metadata": {},
     "output_type": "execute_result"
    }
   ],
   "source": [
    "l[0] # we can access the element using indexing"
   ]
  },
  {
   "cell_type": "code",
   "execution_count": 6,
   "id": "983ed442-b37d-457b-85cc-9b502fd56a21",
   "metadata": {},
   "outputs": [
    {
     "data": {
      "text/plain": [
       "2.3"
      ]
     },
     "execution_count": 6,
     "metadata": {},
     "output_type": "execute_result"
    }
   ],
   "source": [
    "l[-1]"
   ]
  },
  {
   "cell_type": "markdown",
   "id": "00fef31a-3d18-4cfc-a40e-efe4a247b195",
   "metadata": {},
   "source": [
    "# Modifying Elements\n",
    "    We can change elements using index"
   ]
  },
  {
   "cell_type": "code",
   "execution_count": 7,
   "id": "a03f175f-3815-49c1-b8e1-b24ad8a398ab",
   "metadata": {},
   "outputs": [],
   "source": [
    "l[0]= 'copy'"
   ]
  },
  {
   "cell_type": "code",
   "execution_count": 8,
   "id": "aafef59f-b8a4-4fe8-9f37-e0128abd9656",
   "metadata": {},
   "outputs": [
    {
     "name": "stdout",
     "output_type": "stream",
     "text": [
      "copy\n"
     ]
    }
   ],
   "source": [
    "print(l[0])"
   ]
  },
  {
   "cell_type": "code",
   "execution_count": 9,
   "id": "a570fdc8-35b0-4b39-9f44-28b1d12d1181",
   "metadata": {},
   "outputs": [
    {
     "name": "stdout",
     "output_type": "stream",
     "text": [
      "ghost\n",
      "['copy', 'vijay', 'ram', 'krishna', 'ram', 12, 'ghost']\n"
     ]
    }
   ],
   "source": [
    "l[-1]='ghost'\n",
    "print(l[-1])\n",
    "print(l)"
   ]
  },
  {
   "cell_type": "markdown",
   "id": "4a025e4a-b968-4fc1-8506-4af97f2e3f77",
   "metadata": {},
   "source": [
    "# Adding Elements\n",
    "    using append()  , insert()"
   ]
  },
  {
   "cell_type": "code",
   "execution_count": 10,
   "id": "f0f8bd3d-b493-4141-9ea4-0c0d54bce6f7",
   "metadata": {},
   "outputs": [],
   "source": [
    " # by using append()\n",
    "l.append('apple')"
   ]
  },
  {
   "cell_type": "code",
   "execution_count": 11,
   "id": "f9fb3f31-27cb-43d2-90c6-880bfbdcf730",
   "metadata": {},
   "outputs": [
    {
     "name": "stdout",
     "output_type": "stream",
     "text": [
      "['copy', 'vijay', 'ram', 'krishna', 'ram', 12, 'ghost', 'apple']\n"
     ]
    }
   ],
   "source": [
    "print(l)"
   ]
  },
  {
   "cell_type": "code",
   "execution_count": 12,
   "id": "7b8191a9-3047-42c3-9c0d-3615f840c75c",
   "metadata": {},
   "outputs": [
    {
     "data": {
      "text/plain": [
       "['copy', 'aa', 'vijay', 'ram', 'krishna', 'ram', 12, 'ghost', 'apple']"
      ]
     },
     "execution_count": 12,
     "metadata": {},
     "output_type": "execute_result"
    }
   ],
   "source": [
    "# using .inser()\n",
    "\n",
    "l.insert(1,'aa')\n",
    "l"
   ]
  },
  {
   "cell_type": "code",
   "execution_count": 14,
   "id": "76374e6c-5b65-475d-ba35-5fdf6c0c3d3e",
   "metadata": {},
   "outputs": [],
   "source": [
    "l.insert(-1,'last')"
   ]
  },
  {
   "cell_type": "code",
   "execution_count": 15,
   "id": "49430471-ee02-416b-b1be-c194f20532e6",
   "metadata": {},
   "outputs": [
    {
     "name": "stdout",
     "output_type": "stream",
     "text": [
      "['copy', 'aa', 'vijay', 'ram', 'krishna', 'ram', 12, 'ghost', 'last', 'apple']\n"
     ]
    }
   ],
   "source": [
    "print(l)"
   ]
  },
  {
   "cell_type": "code",
   "execution_count": 16,
   "id": "869ffec1-9458-405e-a888-165eccf38bfe",
   "metadata": {},
   "outputs": [],
   "source": [
    "# by using the .insert() , we can add element at the specific index"
   ]
  },
  {
   "cell_type": "markdown",
   "id": "c4ae1587-916d-401e-b9a6-2d41303badd5",
   "metadata": {},
   "source": [
    "# Removing Elements\n",
    "    using the .remove() , .pop() or clear()"
   ]
  },
  {
   "cell_type": "code",
   "execution_count": 48,
   "id": "ab761000-951f-4c10-9e6d-685bbc1d580b",
   "metadata": {},
   "outputs": [
    {
     "name": "stdout",
     "output_type": "stream",
     "text": [
      "['sgm', 'pune', 'kolhapur', 'mumbai', 'ram']\n"
     ]
    }
   ],
   "source": [
    "mylist =['sgm', 'pune', 'kolhapur','mumbai','ram']\n",
    "print(mylist)"
   ]
  },
  {
   "cell_type": "code",
   "execution_count": 29,
   "id": "c0d779a7-9e3f-4abf-8df5-ea63893be341",
   "metadata": {},
   "outputs": [],
   "source": [
    "mylist.remove('sgm')"
   ]
  },
  {
   "cell_type": "code",
   "execution_count": 30,
   "id": "848468a0-d744-4925-b335-c8b6a72841a8",
   "metadata": {},
   "outputs": [
    {
     "name": "stdout",
     "output_type": "stream",
     "text": [
      "['pune', 'kolhapur', 'mumbai', 'ram']\n"
     ]
    }
   ],
   "source": [
    "print(mylist)  # we removed the 'sgm'"
   ]
  },
  {
   "cell_type": "code",
   "execution_count": 32,
   "id": "43c0b422-98a7-46d1-afff-74cdf0ab1556",
   "metadata": {},
   "outputs": [
    {
     "data": {
      "text/plain": [
       "'pune'"
      ]
     },
     "execution_count": 32,
     "metadata": {},
     "output_type": "execute_result"
    }
   ],
   "source": [
    "mylist.pop(0)"
   ]
  },
  {
   "cell_type": "code",
   "execution_count": 33,
   "id": "d01d76ac-ebc3-4ea5-8acd-df8a24a65750",
   "metadata": {},
   "outputs": [
    {
     "name": "stdout",
     "output_type": "stream",
     "text": [
      "['kolhapur', 'mumbai', 'ram']\n"
     ]
    }
   ],
   "source": [
    "print(mylist) # removed 'pune'"
   ]
  },
  {
   "cell_type": "code",
   "execution_count": 36,
   "id": "c29796a5-d3d1-4d12-8a10-af8d470916ff",
   "metadata": {},
   "outputs": [],
   "source": [
    "mylist.clear() # clear remove all the elements from the list\n",
    "\n"
   ]
  },
  {
   "cell_type": "code",
   "execution_count": 38,
   "id": "6fee1ba2-47ab-4cfb-81cd-491bf1cfa5a6",
   "metadata": {},
   "outputs": [
    {
     "name": "stdout",
     "output_type": "stream",
     "text": [
      "[]\n"
     ]
    }
   ],
   "source": [
    "print(mylist) # we can see here our list is empty"
   ]
  },
  {
   "cell_type": "markdown",
   "id": "d1ec0687-c0e1-4be7-8a3e-9ecd7b021e81",
   "metadata": {},
   "source": [
    "# Other Methods \n",
    "    Use sort(), reverse(), extend(), count(), index(), and copy()."
   ]
  },
  {
   "cell_type": "code",
   "execution_count": 107,
   "id": "7005ea38-cf38-45b9-a61c-15267b604232",
   "metadata": {},
   "outputs": [],
   "source": [
    "lg=['akash','CGPA','SGPA','Kolhapur']"
   ]
  },
  {
   "cell_type": "code",
   "execution_count": 79,
   "id": "fc0cbc25-e9a2-4773-b3a1-ac3f316ee067",
   "metadata": {},
   "outputs": [],
   "source": [
    "lg.sort()"
   ]
  },
  {
   "cell_type": "code",
   "execution_count": 80,
   "id": "56ba3f20-08b7-42ae-9a94-5d83c7296edd",
   "metadata": {},
   "outputs": [
    {
     "name": "stdout",
     "output_type": "stream",
     "text": [
      "['CGPA', 'Kolhapur', 'SGPA', 'akash']\n"
     ]
    }
   ],
   "source": [
    "print(lg) # sorted"
   ]
  },
  {
   "cell_type": "code",
   "execution_count": 81,
   "id": "5b1e24f5-089d-4860-b3bf-3788f8f0e8c3",
   "metadata": {},
   "outputs": [],
   "source": [
    "lg.reverse()"
   ]
  },
  {
   "cell_type": "code",
   "execution_count": 82,
   "id": "033e13b1-fb8d-4e2b-a179-37f8c408489c",
   "metadata": {},
   "outputs": [
    {
     "name": "stdout",
     "output_type": "stream",
     "text": [
      "['akash', 'SGPA', 'Kolhapur', 'CGPA']\n"
     ]
    }
   ],
   "source": [
    "print(lg)   # Reverse"
   ]
  },
  {
   "cell_type": "code",
   "execution_count": 83,
   "id": "4189bb3a-c42c-42c1-b273-2573f878b55c",
   "metadata": {},
   "outputs": [],
   "source": [
    "lg.extend('akash')"
   ]
  },
  {
   "cell_type": "code",
   "execution_count": 84,
   "id": "673118a2-5d70-4d7e-814b-bc956ef7b478",
   "metadata": {},
   "outputs": [
    {
     "name": "stdout",
     "output_type": "stream",
     "text": [
      "['akash', 'SGPA', 'Kolhapur', 'CGPA', 'a', 'k', 'a', 's', 'h']\n"
     ]
    }
   ],
   "source": [
    "print(lg)"
   ]
  },
  {
   "cell_type": "code",
   "execution_count": 85,
   "id": "d7cbd958-23f3-48d1-93a4-4d367360822e",
   "metadata": {},
   "outputs": [],
   "source": [
    "# We observ the element 'akash' in the seprate alphabetic formate"
   ]
  },
  {
   "cell_type": "code",
   "execution_count": 92,
   "id": "88766a82-a401-445a-b641-7d8b646be173",
   "metadata": {},
   "outputs": [
    {
     "data": {
      "text/plain": [
       "2"
      ]
     },
     "execution_count": 92,
     "metadata": {},
     "output_type": "execute_result"
    }
   ],
   "source": [
    "lg.count('a') # we can calculate the how many time a aplhabate or a word repeated in the list"
   ]
  },
  {
   "cell_type": "code",
   "execution_count": 95,
   "id": "faec51bd-30cd-4365-8813-2c6e74f59e4b",
   "metadata": {},
   "outputs": [
    {
     "data": {
      "text/plain": [
       "1"
      ]
     },
     "execution_count": 95,
     "metadata": {},
     "output_type": "execute_result"
    }
   ],
   "source": [
    "lg.count('SGPA')"
   ]
  },
  {
   "cell_type": "code",
   "execution_count": 101,
   "id": "31e6e785-c2b2-4e57-94d4-c4d36cb3a5c1",
   "metadata": {},
   "outputs": [
    {
     "data": {
      "text/plain": [
       "2"
      ]
     },
     "execution_count": 101,
     "metadata": {},
     "output_type": "execute_result"
    }
   ],
   "source": [
    "lg.index('Kolhapur') # using the index we can find the index  of the specific  elements"
   ]
  },
  {
   "cell_type": "code",
   "execution_count": 113,
   "id": "50398f1d-44ad-491c-8e9c-713cf0e0d025",
   "metadata": {},
   "outputs": [
    {
     "ename": "TypeError",
     "evalue": "list.copy() takes no arguments (1 given)",
     "output_type": "error",
     "traceback": [
      "\u001b[1;31m---------------------------------------------------------------------------\u001b[0m",
      "\u001b[1;31mTypeError\u001b[0m                                 Traceback (most recent call last)",
      "Cell \u001b[1;32mIn[113], line 1\u001b[0m\n\u001b[1;32m----> 1\u001b[0m lg\u001b[38;5;241m.\u001b[39mcopy(\u001b[38;5;124m'\u001b[39m\u001b[38;5;124ma\u001b[39m\u001b[38;5;124m'\u001b[39m)\n",
      "\u001b[1;31mTypeError\u001b[0m: list.copy() takes no arguments (1 given)"
     ]
    }
   ],
   "source": [
    "lg.copy()"
   ]
  },
  {
   "cell_type": "code",
   "execution_count": 110,
   "id": "11770d4d-90a4-4174-97f3-e192bcf80160",
   "metadata": {},
   "outputs": [
    {
     "data": {
      "text/plain": [
       "['akash', 'CGPA', 'SGPA', 'Kolhapur']"
      ]
     },
     "execution_count": 110,
     "metadata": {},
     "output_type": "execute_result"
    }
   ],
   "source": [
    "lg"
   ]
  },
  {
   "cell_type": "code",
   "execution_count": 111,
   "id": "26915461-f7dd-4451-b23b-963e171bac49",
   "metadata": {},
   "outputs": [],
   "source": [
    "lg.clear()"
   ]
  },
  {
   "cell_type": "code",
   "execution_count": 112,
   "id": "7c81f28f-5886-4d5e-83fc-8079ce0afdb6",
   "metadata": {},
   "outputs": [
    {
     "data": {
      "text/plain": [
       "[]"
      ]
     },
     "execution_count": 112,
     "metadata": {},
     "output_type": "execute_result"
    }
   ],
   "source": [
    "lg"
   ]
  },
  {
   "cell_type": "code",
   "execution_count": null,
   "id": "87f933f1-9e32-4ede-923c-56d8c4900898",
   "metadata": {},
   "outputs": [],
   "source": []
  },
  {
   "cell_type": "code",
   "execution_count": null,
   "id": "db5b9306-04b8-4207-ac17-f5cb2a01bfde",
   "metadata": {},
   "outputs": [],
   "source": []
  }
 ],
 "metadata": {
  "kernelspec": {
   "display_name": "Python 3 (ipykernel)",
   "language": "python",
   "name": "python3"
  },
  "language_info": {
   "codemirror_mode": {
    "name": "ipython",
    "version": 3
   },
   "file_extension": ".py",
   "mimetype": "text/x-python",
   "name": "python",
   "nbconvert_exporter": "python",
   "pygments_lexer": "ipython3",
   "version": "3.11.5"
  }
 },
 "nbformat": 4,
 "nbformat_minor": 5
}
